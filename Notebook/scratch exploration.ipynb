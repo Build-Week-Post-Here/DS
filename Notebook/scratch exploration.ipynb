{
 "cells": [
  {
   "cell_type": "markdown",
   "metadata": {},
   "source": [
    "# Subreddit Predictor "
   ]
  },
  {
   "cell_type": "markdown",
   "metadata": {},
   "source": [
    "First need to import "
   ]
  },
  {
   "cell_type": "code",
   "execution_count": 1,
   "metadata": {},
   "outputs": [],
   "source": [
    "import praw\n",
    "import configparser\n",
    "\n",
    "import random\n",
    "import pandas as pd\n",
    "import numpy as np\n",
    "import sys"
   ]
  },
  {
   "cell_type": "code",
   "execution_count": 2,
   "metadata": {},
   "outputs": [],
   "source": [
    "config = configparser.ConfigParser()\n",
    "config.read('../secrets.ini')\n",
    "user_agent = config.get('reddit', 'user_agent')\n",
    "client_id = config.get('reddit', 'client_id')\n",
    "client_secret = config.get('reddit', 'client_secret')"
   ]
  },
  {
   "cell_type": "code",
   "execution_count": 3,
   "metadata": {},
   "outputs": [],
   "source": [
    "import praw\n",
    "\n",
    "reddit = praw.Reddit(client_id=client_id,\n",
    "                     client_secret=client_secret,\n",
    "                     user_agent=user_agent)"
   ]
  },
  {
   "cell_type": "code",
   "execution_count": 4,
   "metadata": {
    "scrolled": true
   },
   "outputs": [
    {
     "data": {
      "text/plain": [
       "['__class__',\n",
       " '__delattr__',\n",
       " '__dict__',\n",
       " '__dir__',\n",
       " '__doc__',\n",
       " '__enter__',\n",
       " '__eq__',\n",
       " '__exit__',\n",
       " '__format__',\n",
       " '__ge__',\n",
       " '__getattribute__',\n",
       " '__gt__',\n",
       " '__hash__',\n",
       " '__init__',\n",
       " '__init_subclass__',\n",
       " '__le__',\n",
       " '__lt__',\n",
       " '__module__',\n",
       " '__ne__',\n",
       " '__new__',\n",
       " '__reduce__',\n",
       " '__reduce_ex__',\n",
       " '__repr__',\n",
       " '__setattr__',\n",
       " '__sizeof__',\n",
       " '__str__',\n",
       " '__subclasshook__',\n",
       " '__weakref__',\n",
       " '_authorized_core',\n",
       " '_check_for_update',\n",
       " '_core',\n",
       " '_next_unique',\n",
       " '_objector',\n",
       " '_prepare_objector',\n",
       " '_prepare_prawcore',\n",
       " '_prepare_trusted_prawcore',\n",
       " '_prepare_untrusted_prawcore',\n",
       " '_read_only_core',\n",
       " '_unique_counter',\n",
       " 'auth',\n",
       " 'comment',\n",
       " 'config',\n",
       " 'domain',\n",
       " 'front',\n",
       " 'get',\n",
       " 'inbox',\n",
       " 'info',\n",
       " 'live',\n",
       " 'multireddit',\n",
       " 'patch',\n",
       " 'post',\n",
       " 'put',\n",
       " 'random_subreddit',\n",
       " 'read_only',\n",
       " 'redditor',\n",
       " 'redditors',\n",
       " 'request',\n",
       " 'submission',\n",
       " 'subreddit',\n",
       " 'subreddits',\n",
       " 'update_checked',\n",
       " 'user']"
      ]
     },
     "execution_count": 4,
     "metadata": {},
     "output_type": "execute_result"
    }
   ],
   "source": [
    "dir(reddit)"
   ]
  },
  {
   "cell_type": "code",
   "execution_count": 5,
   "metadata": {},
   "outputs": [
    {
     "name": "stdout",
     "output_type": "stream",
     "text": [
      "Help on method get in module praw.reddit:\n",
      "\n",
      "get(path, params=None) method of praw.reddit.Reddit instance\n",
      "    Return parsed objects returned from a GET request to ``path``.\n",
      "    \n",
      "    :param path: The path to fetch.\n",
      "    :param params: The query parameters to add to the request (default:\n",
      "        None).\n",
      "\n"
     ]
    }
   ],
   "source": [
    "help(reddit.get)"
   ]
  },
  {
   "cell_type": "code",
   "execution_count": 6,
   "metadata": {},
   "outputs": [
    {
     "data": {
      "text/plain": [
       "Subreddit(display_name='OurPresident')"
      ]
     },
     "execution_count": 6,
     "metadata": {},
     "output_type": "execute_result"
    }
   ],
   "source": [
    "reddit.random_subreddit()"
   ]
  },
  {
   "cell_type": "code",
   "execution_count": 7,
   "metadata": {},
   "outputs": [
    {
     "name": "stdout",
     "output_type": "stream",
     "text": [
      "Help on method comment in module praw.reddit:\n",
      "\n",
      "comment(id=None, url=None) method of praw.reddit.Reddit instance\n",
      "    Return a lazy instance of :class:`~.Comment` for ``id``.\n",
      "    \n",
      "    :param id: The ID of the comment.\n",
      "    \n",
      "    :param url: A permalink pointing to the comment.\n",
      "    \n",
      "    .. note:: If you want to obtain the comment's replies, you will need to\n",
      "              call :meth:`~.Comment.refresh` on the returned\n",
      "              :class:`.Comment`.\n",
      "\n"
     ]
    }
   ],
   "source": [
    "help(reddit.comment)"
   ]
  },
  {
   "cell_type": "code",
   "execution_count": 8,
   "metadata": {},
   "outputs": [
    {
     "name": "stdout",
     "output_type": "stream",
     "text": [
      "Help on Subreddits in module praw.models.subreddits object:\n",
      "\n",
      "class Subreddits(praw.models.base.PRAWBase)\n",
      " |  Subreddits(reddit, _data)\n",
      " |  \n",
      " |  Subreddits is a Listing class that provides various subreddit lists.\n",
      " |  \n",
      " |  Method resolution order:\n",
      " |      Subreddits\n",
      " |      praw.models.base.PRAWBase\n",
      " |      builtins.object\n",
      " |  \n",
      " |  Methods defined here:\n",
      " |  \n",
      " |  default(self, **generator_kwargs)\n",
      " |      Return a :class:`.ListingGenerator` for default subreddits.\n",
      " |  \n",
      " |  gold(self, **generator_kwargs)\n",
      " |      Return a :class:`.ListingGenerator` for gold subreddits.\n",
      " |  \n",
      " |  new(self, **generator_kwargs)\n",
      " |      Return a :class:`.ListingGenerator` for new subreddits.\n",
      " |  \n",
      " |  popular(self, **generator_kwargs)\n",
      " |      Return a :class:`.ListingGenerator` for popular subreddits.\n",
      " |  \n",
      " |  recommended(self, subreddits, omit_subreddits=None)\n",
      " |      Return subreddits recommended for the given list of subreddits.\n",
      " |      \n",
      " |      :param subreddits: A list of Subreddit instances and/or subreddit\n",
      " |          names.\n",
      " |      :param omit_subreddits: A list of Subreddit instances and/or subreddit\n",
      " |          names to exclude from the results (Reddit's end may not work as\n",
      " |          expected).\n",
      " |  \n",
      " |  search(self, query, **generator_kwargs)\n",
      " |      Return a :class:`.ListingGenerator` of subreddits matching ``query``.\n",
      " |      \n",
      " |      Subreddits are searched by both their title and description. To search\n",
      " |      names only see ``search_by_name``.\n",
      " |      \n",
      " |      :param query: The query string to filter subreddits by.\n",
      " |  \n",
      " |  search_by_name(self, query, include_nsfw=True, exact=False)\n",
      " |      Return list of Subreddits whose names begin with ``query``.\n",
      " |      \n",
      " |      :param query: Search for subreddits beginning with this string.\n",
      " |      :param include_nsfw: Include subreddits labeled NSFW (default: True).\n",
      " |      :param exact: Return only exact matches to ``query`` (default: False).\n",
      " |  \n",
      " |  search_by_topic(self, query)\n",
      " |      Return list of Subreddits whose topics match ``query``.\n",
      " |      \n",
      " |      :param query: Search for subreddits relevant to the search topic.\n",
      " |  \n",
      " |  stream(self, **stream_options)\n",
      " |      Yield new subreddits as they are created.\n",
      " |      \n",
      " |      Subreddits are yielded oldest first. Up to 100 historical subreddits\n",
      " |      will initially be returned.\n",
      " |      \n",
      " |      Keyword arguments are passed to :func:`.stream_generator`.\n",
      " |  \n",
      " |  ----------------------------------------------------------------------\n",
      " |  Methods inherited from praw.models.base.PRAWBase:\n",
      " |  \n",
      " |  __init__(self, reddit, _data)\n",
      " |      Initialize a PRAWModel instance.\n",
      " |      \n",
      " |      :param reddit: An instance of :class:`.Reddit`.\n",
      " |  \n",
      " |  ----------------------------------------------------------------------\n",
      " |  Class methods inherited from praw.models.base.PRAWBase:\n",
      " |  \n",
      " |  parse(data, reddit) from builtins.type\n",
      " |      Return an instance of ``cls`` from ``data``.\n",
      " |      \n",
      " |      :param data: The structured data.\n",
      " |      :param reddit: An instance of :class:`.Reddit`.\n",
      " |  \n",
      " |  ----------------------------------------------------------------------\n",
      " |  Data descriptors inherited from praw.models.base.PRAWBase:\n",
      " |  \n",
      " |  __dict__\n",
      " |      dictionary for instance variables (if defined)\n",
      " |  \n",
      " |  __weakref__\n",
      " |      list of weak references to the object (if defined)\n",
      "\n"
     ]
    }
   ],
   "source": [
    "help(reddit.subreddits)"
   ]
  },
  {
   "cell_type": "code",
   "execution_count": 28,
   "metadata": {},
   "outputs": [],
   "source": [
    "popular_subreddits = list(reddit.subreddits.popular())[0:5]"
   ]
  },
  {
   "cell_type": "code",
   "execution_count": 10,
   "metadata": {},
   "outputs": [],
   "source": [
    "lpython = reddit.subreddit('learnpython')"
   ]
  },
  {
   "cell_type": "code",
   "execution_count": 24,
   "metadata": {},
   "outputs": [
    {
     "data": {
      "text/plain": [
       "['MESSAGE_PREFIX',\n",
       " 'STR_FIELD',\n",
       " 'VALID_TIME_FILTERS',\n",
       " '__class__',\n",
       " '__delattr__',\n",
       " '__dict__',\n",
       " '__dir__',\n",
       " '__doc__',\n",
       " '__eq__',\n",
       " '__format__',\n",
       " '__ge__',\n",
       " '__getattr__',\n",
       " '__getattribute__',\n",
       " '__gt__',\n",
       " '__hash__',\n",
       " '__init__',\n",
       " '__init_subclass__',\n",
       " '__le__',\n",
       " '__lt__',\n",
       " '__module__',\n",
       " '__ne__',\n",
       " '__new__',\n",
       " '__reduce__',\n",
       " '__reduce_ex__',\n",
       " '__repr__',\n",
       " '__setattr__',\n",
       " '__sizeof__',\n",
       " '__str__',\n",
       " '__subclasshook__',\n",
       " '__weakref__',\n",
       " '_create_or_update',\n",
       " '_fetch',\n",
       " '_fetch_data',\n",
       " '_fetch_info',\n",
       " '_fetched',\n",
       " '_kind',\n",
       " '_path',\n",
       " '_reddit',\n",
       " '_reset_attributes',\n",
       " '_safely_add_arguments',\n",
       " '_submission_class',\n",
       " '_submit_media',\n",
       " '_subreddit_collections_class',\n",
       " '_subreddit_list',\n",
       " '_upload_media',\n",
       " '_url_parts',\n",
       " '_validate_time_filter',\n",
       " 'banned',\n",
       " 'collections',\n",
       " 'comments',\n",
       " 'contributor',\n",
       " 'controversial',\n",
       " 'display_name',\n",
       " 'emoji',\n",
       " 'filters',\n",
       " 'flair',\n",
       " 'fullname',\n",
       " 'gilded',\n",
       " 'hot',\n",
       " 'message',\n",
       " 'mod',\n",
       " 'moderator',\n",
       " 'modmail',\n",
       " 'muted',\n",
       " 'new',\n",
       " 'parse',\n",
       " 'quaran',\n",
       " 'random',\n",
       " 'random_rising',\n",
       " 'rising',\n",
       " 'rules',\n",
       " 'search',\n",
       " 'sticky',\n",
       " 'stream',\n",
       " 'stylesheet',\n",
       " 'submit',\n",
       " 'submit_image',\n",
       " 'submit_video',\n",
       " 'subscribe',\n",
       " 'top',\n",
       " 'traffic',\n",
       " 'unsubscribe',\n",
       " 'widgets',\n",
       " 'wiki']"
      ]
     },
     "execution_count": 24,
     "metadata": {},
     "output_type": "execute_result"
    }
   ],
   "source": [
    "dir(lpython)"
   ]
  },
  {
   "cell_type": "code",
   "execution_count": 11,
   "metadata": {},
   "outputs": [
    {
     "data": {
      "text/plain": [
       "['MESSAGE_PREFIX',\n",
       " 'STR_FIELD',\n",
       " 'VALID_TIME_FILTERS',\n",
       " '__class__',\n",
       " '__delattr__',\n",
       " '__dict__',\n",
       " '__dir__',\n",
       " '__doc__',\n",
       " '__eq__',\n",
       " '__format__',\n",
       " '__ge__',\n",
       " '__getattr__',\n",
       " '__getattribute__',\n",
       " '__gt__',\n",
       " '__hash__',\n",
       " '__init__',\n",
       " '__init_subclass__',\n",
       " '__le__',\n",
       " '__lt__',\n",
       " '__module__',\n",
       " '__ne__',\n",
       " '__new__',\n",
       " '__reduce__',\n",
       " '__reduce_ex__',\n",
       " '__repr__',\n",
       " '__setattr__',\n",
       " '__sizeof__',\n",
       " '__str__',\n",
       " '__subclasshook__',\n",
       " '__weakref__',\n",
       " '_create_or_update',\n",
       " '_fetch',\n",
       " '_fetch_data',\n",
       " '_fetch_info',\n",
       " '_fetched',\n",
       " '_kind',\n",
       " '_path',\n",
       " '_reddit',\n",
       " '_reset_attributes',\n",
       " '_safely_add_arguments',\n",
       " '_submission_class',\n",
       " '_submit_media',\n",
       " '_subreddit_collections_class',\n",
       " '_subreddit_list',\n",
       " '_upload_media',\n",
       " '_url_parts',\n",
       " '_validate_time_filter',\n",
       " 'banned',\n",
       " 'collections',\n",
       " 'comments',\n",
       " 'contributor',\n",
       " 'controversial',\n",
       " 'display_name',\n",
       " 'emoji',\n",
       " 'filters',\n",
       " 'flair',\n",
       " 'fullname',\n",
       " 'gilded',\n",
       " 'hot',\n",
       " 'message',\n",
       " 'mod',\n",
       " 'moderator',\n",
       " 'modmail',\n",
       " 'muted',\n",
       " 'new',\n",
       " 'parse',\n",
       " 'quaran',\n",
       " 'random',\n",
       " 'random_rising',\n",
       " 'rising',\n",
       " 'rules',\n",
       " 'search',\n",
       " 'sticky',\n",
       " 'stream',\n",
       " 'stylesheet',\n",
       " 'submit',\n",
       " 'submit_image',\n",
       " 'submit_video',\n",
       " 'subscribe',\n",
       " 'top',\n",
       " 'traffic',\n",
       " 'unsubscribe',\n",
       " 'widgets',\n",
       " 'wiki']"
      ]
     },
     "execution_count": 11,
     "metadata": {},
     "output_type": "execute_result"
    }
   ],
   "source": [
    "dir(lpython)"
   ]
  },
  {
   "cell_type": "code",
   "execution_count": 12,
   "metadata": {},
   "outputs": [
    {
     "data": {
      "text/plain": [
       "['__class__',\n",
       " '__delattr__',\n",
       " '__dict__',\n",
       " '__dir__',\n",
       " '__doc__',\n",
       " '__eq__',\n",
       " '__format__',\n",
       " '__ge__',\n",
       " '__getattribute__',\n",
       " '__gt__',\n",
       " '__hash__',\n",
       " '__init__',\n",
       " '__init_subclass__',\n",
       " '__iter__',\n",
       " '__le__',\n",
       " '__lt__',\n",
       " '__module__',\n",
       " '__ne__',\n",
       " '__new__',\n",
       " '__next__',\n",
       " '__reduce__',\n",
       " '__reduce_ex__',\n",
       " '__repr__',\n",
       " '__setattr__',\n",
       " '__sizeof__',\n",
       " '__str__',\n",
       " '__subclasshook__',\n",
       " '__weakref__',\n",
       " '_exhausted',\n",
       " '_list_index',\n",
       " '_listing',\n",
       " '_next_batch',\n",
       " '_reddit',\n",
       " '_safely_add_arguments',\n",
       " 'limit',\n",
       " 'params',\n",
       " 'parse',\n",
       " 'url',\n",
       " 'yielded']"
      ]
     },
     "execution_count": 12,
     "metadata": {},
     "output_type": "execute_result"
    }
   ],
   "source": [
    "dir(lpython.comments())"
   ]
  },
  {
   "cell_type": "code",
   "execution_count": 13,
   "metadata": {},
   "outputs": [],
   "source": [
    "comment_list = list(lpython.comments())"
   ]
  },
  {
   "cell_type": "code",
   "execution_count": 40,
   "metadata": {
    "scrolled": false
   },
   "outputs": [
    {
     "name": "stdout",
     "output_type": "stream",
     "text": [
      "Help on CommentHelper in module praw.models.listing.mixins.subreddit object:\n",
      "\n",
      "class CommentHelper(praw.models.base.PRAWBase)\n",
      " |  CommentHelper(subreddit)\n",
      " |  \n",
      " |  Provide a set of functions to interact with a subreddit's comments.\n",
      " |  \n",
      " |  Method resolution order:\n",
      " |      CommentHelper\n",
      " |      praw.models.base.PRAWBase\n",
      " |      builtins.object\n",
      " |  \n",
      " |  Methods defined here:\n",
      " |  \n",
      " |  __call__(self, **generator_kwargs)\n",
      " |      Return a ListingGenerator for the Subreddit's comments.\n",
      " |      \n",
      " |      Additional keyword arguments are passed in the initialization of\n",
      " |      :class:`.ListingGenerator`.\n",
      " |      \n",
      " |      This method should be used in a way similar to the example below:\n",
      " |      \n",
      " |      .. code:: python\n",
      " |      \n",
      " |         for comment in reddit.subreddit('redditdev').comments(limit=25):\n",
      " |             print(comment.author)\n",
      " |  \n",
      " |  __init__(self, subreddit)\n",
      " |      Initialize a CommentHelper instance.\n",
      " |  \n",
      " |  ----------------------------------------------------------------------\n",
      " |  Class methods inherited from praw.models.base.PRAWBase:\n",
      " |  \n",
      " |  parse(data, reddit) from builtins.type\n",
      " |      Return an instance of ``cls`` from ``data``.\n",
      " |      \n",
      " |      :param data: The structured data.\n",
      " |      :param reddit: An instance of :class:`.Reddit`.\n",
      " |  \n",
      " |  ----------------------------------------------------------------------\n",
      " |  Data descriptors inherited from praw.models.base.PRAWBase:\n",
      " |  \n",
      " |  __dict__\n",
      " |      dictionary for instance variables (if defined)\n",
      " |  \n",
      " |  __weakref__\n",
      " |      list of weak references to the object (if defined)\n",
      "\n"
     ]
    }
   ],
   "source": [
    "help(lpython.comments)"
   ]
  },
  {
   "cell_type": "code",
   "execution_count": 41,
   "metadata": {},
   "outputs": [
    {
     "data": {
      "text/plain": [
       "[Comment(id='f4ncixo'),\n",
       " Comment(id='f4ncf1g'),\n",
       " Comment(id='f4nc8lj'),\n",
       " Comment(id='f4nc03c'),\n",
       " Comment(id='f4nbyro')]"
      ]
     },
     "execution_count": 41,
     "metadata": {},
     "output_type": "execute_result"
    }
   ],
   "source": [
    "list(lpython.comments())[0:5]"
   ]
  },
  {
   "cell_type": "code",
   "execution_count": 56,
   "metadata": {},
   "outputs": [],
   "source": [
    "rows = []\n",
    "comments = list(lpython.comments())[0:5] \n",
    "for comment in comments:\n",
    "    rows.append(\n",
    "        dict(body=comment.body,\n",
    "                body_html=comment.body_html,\n",
    "                id=comment.id,\n",
    "                author_id=comment.author.id,\n",
    "                subreddit_id=lpython.id,\n",
    "                created_utc=comment.created_utc))\n",
    "df = pd.DataFrame(rows)"
   ]
  },
  {
   "cell_type": "code",
   "execution_count": 57,
   "metadata": {},
   "outputs": [
    {
     "data": {
      "text/html": [
       "<div>\n",
       "<style scoped>\n",
       "    .dataframe tbody tr th:only-of-type {\n",
       "        vertical-align: middle;\n",
       "    }\n",
       "\n",
       "    .dataframe tbody tr th {\n",
       "        vertical-align: top;\n",
       "    }\n",
       "\n",
       "    .dataframe thead th {\n",
       "        text-align: right;\n",
       "    }\n",
       "</style>\n",
       "<table border=\"1\" class=\"dataframe\">\n",
       "  <thead>\n",
       "    <tr style=\"text-align: right;\">\n",
       "      <th></th>\n",
       "      <th>author_id</th>\n",
       "      <th>body</th>\n",
       "      <th>body_html</th>\n",
       "      <th>created_utc</th>\n",
       "      <th>id</th>\n",
       "      <th>subreddit_id</th>\n",
       "    </tr>\n",
       "  </thead>\n",
       "  <tbody>\n",
       "    <tr>\n",
       "      <th>0</th>\n",
       "      <td>4o5wk6bk</td>\n",
       "      <td>tbh, i dont know if there are free courses on ...</td>\n",
       "      <td>&lt;div class=\"md\"&gt;&lt;p&gt;tbh, i dont know if there a...</td>\n",
       "      <td>1.571688e+09</td>\n",
       "      <td>f4nd3zy</td>\n",
       "      <td>2r8ot</td>\n",
       "    </tr>\n",
       "    <tr>\n",
       "      <th>1</th>\n",
       "      <td>9lkqk</td>\n",
       "      <td>`int()` can only convert a string that it unde...</td>\n",
       "      <td>&lt;div class=\"md\"&gt;&lt;p&gt;&lt;code&gt;int()&lt;/code&gt; can only...</td>\n",
       "      <td>1.571688e+09</td>\n",
       "      <td>f4nd3eg</td>\n",
       "      <td>2r8ot</td>\n",
       "    </tr>\n",
       "    <tr>\n",
       "      <th>2</th>\n",
       "      <td>xag9p</td>\n",
       "      <td>Yeah. Because you have to iterate over every c...</td>\n",
       "      <td>&lt;div class=\"md\"&gt;&lt;p&gt;Yeah. Because you have to i...</td>\n",
       "      <td>1.571688e+09</td>\n",
       "      <td>f4ncwjf</td>\n",
       "      <td>2r8ot</td>\n",
       "    </tr>\n",
       "    <tr>\n",
       "      <th>3</th>\n",
       "      <td>jkhqk</td>\n",
       "      <td>Get yourself a project or 6 to work on. Look f...</td>\n",
       "      <td>&lt;div class=\"md\"&gt;&lt;p&gt;Get yourself a project or 6...</td>\n",
       "      <td>1.571688e+09</td>\n",
       "      <td>f4nctr5</td>\n",
       "      <td>2r8ot</td>\n",
       "    </tr>\n",
       "    <tr>\n",
       "      <th>4</th>\n",
       "      <td>7rt5b</td>\n",
       "      <td>&gt; I'm just wondering how far along I will have...</td>\n",
       "      <td>&lt;div class=\"md\"&gt;&lt;blockquote&gt;\\n&lt;p&gt;I&amp;#39;m just ...</td>\n",
       "      <td>1.571688e+09</td>\n",
       "      <td>f4nctli</td>\n",
       "      <td>2r8ot</td>\n",
       "    </tr>\n",
       "  </tbody>\n",
       "</table>\n",
       "</div>"
      ],
      "text/plain": [
       "  author_id                                               body  \\\n",
       "0  4o5wk6bk  tbh, i dont know if there are free courses on ...   \n",
       "1     9lkqk  `int()` can only convert a string that it unde...   \n",
       "2     xag9p  Yeah. Because you have to iterate over every c...   \n",
       "3     jkhqk  Get yourself a project or 6 to work on. Look f...   \n",
       "4     7rt5b  > I'm just wondering how far along I will have...   \n",
       "\n",
       "                                           body_html   created_utc       id  \\\n",
       "0  <div class=\"md\"><p>tbh, i dont know if there a...  1.571688e+09  f4nd3zy   \n",
       "1  <div class=\"md\"><p><code>int()</code> can only...  1.571688e+09  f4nd3eg   \n",
       "2  <div class=\"md\"><p>Yeah. Because you have to i...  1.571688e+09  f4ncwjf   \n",
       "3  <div class=\"md\"><p>Get yourself a project or 6...  1.571688e+09  f4nctr5   \n",
       "4  <div class=\"md\"><blockquote>\\n<p>I&#39;m just ...  1.571688e+09  f4nctli   \n",
       "\n",
       "  subreddit_id  \n",
       "0        2r8ot  \n",
       "1        2r8ot  \n",
       "2        2r8ot  \n",
       "3        2r8ot  \n",
       "4        2r8ot  "
      ]
     },
     "execution_count": 57,
     "metadata": {},
     "output_type": "execute_result"
    }
   ],
   "source": [
    "df.head()"
   ]
  },
  {
   "cell_type": "code",
   "execution_count": 65,
   "metadata": {},
   "outputs": [],
   "source": [
    "def sample_comments(sr, n=20):\n",
    "    rows = []\n",
    "    comments = list(sr.comments())[0:n] # TODO check if this sample is fair\n",
    "    for comment in comments:\n",
    "        rows.append(\n",
    "            dict(body=comment.body,\n",
    "                body_html=comment.body_html,\n",
    "                id=comment.id,\n",
    "                author_id=comment.author.id,\n",
    "                subreddit_id=sr.id,\n",
    "                created_utc=comment.created_utc))\n",
    "    df = pd.DataFrame(rows)\n",
    "    return df "
   ]
  },
  {
   "cell_type": "code",
   "execution_count": 66,
   "metadata": {},
   "outputs": [
    {
     "data": {
      "text/html": [
       "<div>\n",
       "<style scoped>\n",
       "    .dataframe tbody tr th:only-of-type {\n",
       "        vertical-align: middle;\n",
       "    }\n",
       "\n",
       "    .dataframe tbody tr th {\n",
       "        vertical-align: top;\n",
       "    }\n",
       "\n",
       "    .dataframe thead th {\n",
       "        text-align: right;\n",
       "    }\n",
       "</style>\n",
       "<table border=\"1\" class=\"dataframe\">\n",
       "  <thead>\n",
       "    <tr style=\"text-align: right;\">\n",
       "      <th></th>\n",
       "      <th>author_id</th>\n",
       "      <th>body</th>\n",
       "      <th>body_html</th>\n",
       "      <th>created_utc</th>\n",
       "      <th>id</th>\n",
       "      <th>subreddit_id</th>\n",
       "    </tr>\n",
       "  </thead>\n",
       "  <tbody>\n",
       "    <tr>\n",
       "      <th>0</th>\n",
       "      <td>id2r442</td>\n",
       "      <td>Yes Officer, this comment right here.</td>\n",
       "      <td>&lt;div class=\"md\"&gt;&lt;p&gt;Yes Officer, this comment r...</td>\n",
       "      <td>1.571690e+09</td>\n",
       "      <td>f4nk7fy</td>\n",
       "      <td>2qh1i</td>\n",
       "    </tr>\n",
       "    <tr>\n",
       "      <th>1</th>\n",
       "      <td>ffi7n</td>\n",
       "      <td>Do people not fucking read this thread before ...</td>\n",
       "      <td>&lt;div class=\"md\"&gt;&lt;p&gt;Do people not fucking read ...</td>\n",
       "      <td>1.571690e+09</td>\n",
       "      <td>f4nk76b</td>\n",
       "      <td>2qh1i</td>\n",
       "    </tr>\n",
       "    <tr>\n",
       "      <th>2</th>\n",
       "      <td>2ubjnqe6</td>\n",
       "      <td>I’ll tell you why climate change is a scam, in...</td>\n",
       "      <td>&lt;div class=\"md\"&gt;&lt;p&gt;I’ll tell you why climate c...</td>\n",
       "      <td>1.571690e+09</td>\n",
       "      <td>f4nk712</td>\n",
       "      <td>2qh1i</td>\n",
       "    </tr>\n",
       "    <tr>\n",
       "      <th>3</th>\n",
       "      <td>3f5boim7</td>\n",
       "      <td>So.. 10 Elf trucks worth of sand? That's gonna...</td>\n",
       "      <td>&lt;div class=\"md\"&gt;&lt;p&gt;So.. 10 Elf trucks worth of...</td>\n",
       "      <td>1.571690e+09</td>\n",
       "      <td>f4nk6zt</td>\n",
       "      <td>2qh1i</td>\n",
       "    </tr>\n",
       "    <tr>\n",
       "      <th>4</th>\n",
       "      <td>3mtsi9xu</td>\n",
       "      <td>Marley and me kinda makes me sad</td>\n",
       "      <td>&lt;div class=\"md\"&gt;&lt;p&gt;Marley and me kinda makes m...</td>\n",
       "      <td>1.571690e+09</td>\n",
       "      <td>f4nk6z5</td>\n",
       "      <td>2qh1i</td>\n",
       "    </tr>\n",
       "    <tr>\n",
       "      <th>5</th>\n",
       "      <td>1msq2lo3</td>\n",
       "      <td>They only activate at the same time, negating ...</td>\n",
       "      <td>&lt;div class=\"md\"&gt;&lt;p&gt;They only activate at the s...</td>\n",
       "      <td>1.571690e+09</td>\n",
       "      <td>f4nk6yg</td>\n",
       "      <td>2qh1i</td>\n",
       "    </tr>\n",
       "    <tr>\n",
       "      <th>6</th>\n",
       "      <td>14zlp1</td>\n",
       "      <td>So then my new job shall be to rub shoulders 24/7</td>\n",
       "      <td>&lt;div class=\"md\"&gt;&lt;p&gt;So then my new job shall be...</td>\n",
       "      <td>1.571690e+09</td>\n",
       "      <td>f4nk6vz</td>\n",
       "      <td>2qh1i</td>\n",
       "    </tr>\n",
       "    <tr>\n",
       "      <th>7</th>\n",
       "      <td>3bg94gzv</td>\n",
       "      <td>But every time you blink it spawns 10 mosquito...</td>\n",
       "      <td>&lt;div class=\"md\"&gt;&lt;p&gt;But every time you blink it...</td>\n",
       "      <td>1.571690e+09</td>\n",
       "      <td>f4nk6ui</td>\n",
       "      <td>2qh1i</td>\n",
       "    </tr>\n",
       "    <tr>\n",
       "      <th>8</th>\n",
       "      <td>mcdbixu</td>\n",
       "      <td>My \"friend\" literally pulled my pants down fla...</td>\n",
       "      <td>&lt;div class=\"md\"&gt;&lt;p&gt;My &amp;quot;friend&amp;quot; liter...</td>\n",
       "      <td>1.571690e+09</td>\n",
       "      <td>f4nk6tn</td>\n",
       "      <td>2qh1i</td>\n",
       "    </tr>\n",
       "    <tr>\n",
       "      <th>9</th>\n",
       "      <td>bkme2</td>\n",
       "      <td>Ever since our daughter was born I've been wat...</td>\n",
       "      <td>&lt;div class=\"md\"&gt;&lt;p&gt;Ever since our daughter was...</td>\n",
       "      <td>1.571690e+09</td>\n",
       "      <td>f4nk6th</td>\n",
       "      <td>2qh1i</td>\n",
       "    </tr>\n",
       "    <tr>\n",
       "      <th>10</th>\n",
       "      <td>31pk3qr5</td>\n",
       "      <td>A broken finger</td>\n",
       "      <td>&lt;div class=\"md\"&gt;&lt;p&gt;A broken finger&lt;/p&gt;\\n&lt;/div&gt;</td>\n",
       "      <td>1.571690e+09</td>\n",
       "      <td>f4nk6ri</td>\n",
       "      <td>2qh1i</td>\n",
       "    </tr>\n",
       "    <tr>\n",
       "      <th>11</th>\n",
       "      <td>yjtys</td>\n",
       "      <td>I was LEM before the rank shift</td>\n",
       "      <td>&lt;div class=\"md\"&gt;&lt;p&gt;I was LEM before the rank s...</td>\n",
       "      <td>1.571690e+09</td>\n",
       "      <td>f4nk6q6</td>\n",
       "      <td>2qh1i</td>\n",
       "    </tr>\n",
       "    <tr>\n",
       "      <th>12</th>\n",
       "      <td>11u78o</td>\n",
       "      <td>Centaurs</td>\n",
       "      <td>&lt;div class=\"md\"&gt;&lt;p&gt;Centaurs&lt;/p&gt;\\n&lt;/div&gt;</td>\n",
       "      <td>1.571690e+09</td>\n",
       "      <td>f4nk6q5</td>\n",
       "      <td>2qh1i</td>\n",
       "    </tr>\n",
       "    <tr>\n",
       "      <th>13</th>\n",
       "      <td>32ogkrn7</td>\n",
       "      <td>Focus on failures in a negative way</td>\n",
       "      <td>&lt;div class=\"md\"&gt;&lt;p&gt;Focus on failures in a nega...</td>\n",
       "      <td>1.571690e+09</td>\n",
       "      <td>f4nk6py</td>\n",
       "      <td>2qh1i</td>\n",
       "    </tr>\n",
       "    <tr>\n",
       "      <th>14</th>\n",
       "      <td>zbtg49w</td>\n",
       "      <td>Male kpop stars can pull it off though</td>\n",
       "      <td>&lt;div class=\"md\"&gt;&lt;p&gt;Male kpop stars can pull it...</td>\n",
       "      <td>1.571690e+09</td>\n",
       "      <td>f4nk6p4</td>\n",
       "      <td>2qh1i</td>\n",
       "    </tr>\n",
       "    <tr>\n",
       "      <th>15</th>\n",
       "      <td>2xryfp60</td>\n",
       "      <td>Satan?</td>\n",
       "      <td>&lt;div class=\"md\"&gt;&lt;p&gt;Satan?&lt;/p&gt;\\n&lt;/div&gt;</td>\n",
       "      <td>1.571690e+09</td>\n",
       "      <td>f4nk6ni</td>\n",
       "      <td>2qh1i</td>\n",
       "    </tr>\n",
       "    <tr>\n",
       "      <th>16</th>\n",
       "      <td>2n7x7u9v</td>\n",
       "      <td>Quick maths</td>\n",
       "      <td>&lt;div class=\"md\"&gt;&lt;p&gt;Quick maths&lt;/p&gt;\\n&lt;/div&gt;</td>\n",
       "      <td>1.571690e+09</td>\n",
       "      <td>f4nk6mq</td>\n",
       "      <td>2qh1i</td>\n",
       "    </tr>\n",
       "    <tr>\n",
       "      <th>17</th>\n",
       "      <td>3eaod0af</td>\n",
       "      <td>They're pretty shitty, but it's been pointed o...</td>\n",
       "      <td>&lt;div class=\"md\"&gt;&lt;p&gt;They&amp;#39;re pretty shitty, ...</td>\n",
       "      <td>1.571690e+09</td>\n",
       "      <td>f4nk6ln</td>\n",
       "      <td>2qh1i</td>\n",
       "    </tr>\n",
       "    <tr>\n",
       "      <th>18</th>\n",
       "      <td>3okkvn17</td>\n",
       "      <td>It ain't much but it's honest work</td>\n",
       "      <td>&lt;div class=\"md\"&gt;&lt;p&gt;It ain&amp;#39;t much but it&amp;#3...</td>\n",
       "      <td>1.571690e+09</td>\n",
       "      <td>f4nk6j8</td>\n",
       "      <td>2qh1i</td>\n",
       "    </tr>\n",
       "    <tr>\n",
       "      <th>19</th>\n",
       "      <td>4ui0lp2w</td>\n",
       "      <td>Wait did aang have a monster cock or something?</td>\n",
       "      <td>&lt;div class=\"md\"&gt;&lt;p&gt;Wait did aang have a monste...</td>\n",
       "      <td>1.571690e+09</td>\n",
       "      <td>f4nk6hi</td>\n",
       "      <td>2qh1i</td>\n",
       "    </tr>\n",
       "  </tbody>\n",
       "</table>\n",
       "</div>"
      ],
      "text/plain": [
       "   author_id                                               body  \\\n",
       "0    id2r442              Yes Officer, this comment right here.   \n",
       "1      ffi7n  Do people not fucking read this thread before ...   \n",
       "2   2ubjnqe6  I’ll tell you why climate change is a scam, in...   \n",
       "3   3f5boim7  So.. 10 Elf trucks worth of sand? That's gonna...   \n",
       "4   3mtsi9xu                   Marley and me kinda makes me sad   \n",
       "5   1msq2lo3  They only activate at the same time, negating ...   \n",
       "6     14zlp1  So then my new job shall be to rub shoulders 24/7   \n",
       "7   3bg94gzv  But every time you blink it spawns 10 mosquito...   \n",
       "8    mcdbixu  My \"friend\" literally pulled my pants down fla...   \n",
       "9      bkme2  Ever since our daughter was born I've been wat...   \n",
       "10  31pk3qr5                                    A broken finger   \n",
       "11     yjtys                    I was LEM before the rank shift   \n",
       "12    11u78o                                           Centaurs   \n",
       "13  32ogkrn7                Focus on failures in a negative way   \n",
       "14   zbtg49w             Male kpop stars can pull it off though   \n",
       "15  2xryfp60                                             Satan?   \n",
       "16  2n7x7u9v                                        Quick maths   \n",
       "17  3eaod0af  They're pretty shitty, but it's been pointed o...   \n",
       "18  3okkvn17                 It ain't much but it's honest work   \n",
       "19  4ui0lp2w    Wait did aang have a monster cock or something?   \n",
       "\n",
       "                                            body_html   created_utc       id  \\\n",
       "0   <div class=\"md\"><p>Yes Officer, this comment r...  1.571690e+09  f4nk7fy   \n",
       "1   <div class=\"md\"><p>Do people not fucking read ...  1.571690e+09  f4nk76b   \n",
       "2   <div class=\"md\"><p>I’ll tell you why climate c...  1.571690e+09  f4nk712   \n",
       "3   <div class=\"md\"><p>So.. 10 Elf trucks worth of...  1.571690e+09  f4nk6zt   \n",
       "4   <div class=\"md\"><p>Marley and me kinda makes m...  1.571690e+09  f4nk6z5   \n",
       "5   <div class=\"md\"><p>They only activate at the s...  1.571690e+09  f4nk6yg   \n",
       "6   <div class=\"md\"><p>So then my new job shall be...  1.571690e+09  f4nk6vz   \n",
       "7   <div class=\"md\"><p>But every time you blink it...  1.571690e+09  f4nk6ui   \n",
       "8   <div class=\"md\"><p>My &quot;friend&quot; liter...  1.571690e+09  f4nk6tn   \n",
       "9   <div class=\"md\"><p>Ever since our daughter was...  1.571690e+09  f4nk6th   \n",
       "10     <div class=\"md\"><p>A broken finger</p>\\n</div>  1.571690e+09  f4nk6ri   \n",
       "11  <div class=\"md\"><p>I was LEM before the rank s...  1.571690e+09  f4nk6q6   \n",
       "12            <div class=\"md\"><p>Centaurs</p>\\n</div>  1.571690e+09  f4nk6q5   \n",
       "13  <div class=\"md\"><p>Focus on failures in a nega...  1.571690e+09  f4nk6py   \n",
       "14  <div class=\"md\"><p>Male kpop stars can pull it...  1.571690e+09  f4nk6p4   \n",
       "15              <div class=\"md\"><p>Satan?</p>\\n</div>  1.571690e+09  f4nk6ni   \n",
       "16         <div class=\"md\"><p>Quick maths</p>\\n</div>  1.571690e+09  f4nk6mq   \n",
       "17  <div class=\"md\"><p>They&#39;re pretty shitty, ...  1.571690e+09  f4nk6ln   \n",
       "18  <div class=\"md\"><p>It ain&#39;t much but it&#3...  1.571690e+09  f4nk6j8   \n",
       "19  <div class=\"md\"><p>Wait did aang have a monste...  1.571690e+09  f4nk6hi   \n",
       "\n",
       "   subreddit_id  \n",
       "0         2qh1i  \n",
       "1         2qh1i  \n",
       "2         2qh1i  \n",
       "3         2qh1i  \n",
       "4         2qh1i  \n",
       "5         2qh1i  \n",
       "6         2qh1i  \n",
       "7         2qh1i  \n",
       "8         2qh1i  \n",
       "9         2qh1i  \n",
       "10        2qh1i  \n",
       "11        2qh1i  \n",
       "12        2qh1i  \n",
       "13        2qh1i  \n",
       "14        2qh1i  \n",
       "15        2qh1i  \n",
       "16        2qh1i  \n",
       "17        2qh1i  \n",
       "18        2qh1i  \n",
       "19        2qh1i  "
      ]
     },
     "execution_count": 66,
     "metadata": {},
     "output_type": "execute_result"
    }
   ],
   "source": [
    "sample_comments(popular_subreddits[0])"
   ]
  },
  {
   "cell_type": "code",
   "execution_count": 15,
   "metadata": {},
   "outputs": [],
   "source": [
    "a_comment = comment_list[1]"
   ]
  },
  {
   "cell_type": "code",
   "execution_count": 16,
   "metadata": {},
   "outputs": [
    {
     "data": {
      "text/plain": [
       "[]"
      ]
     },
     "execution_count": 16,
     "metadata": {},
     "output_type": "execute_result"
    }
   ],
   "source": [
    "a_comment.all_awardings"
   ]
  },
  {
   "cell_type": "code",
   "execution_count": 17,
   "metadata": {},
   "outputs": [
    {
     "data": {
      "text/plain": [
       "['MISSING_COMMENT_MESSAGE',\n",
       " 'STR_FIELD',\n",
       " '__class__',\n",
       " '__delattr__',\n",
       " '__dict__',\n",
       " '__dir__',\n",
       " '__doc__',\n",
       " '__eq__',\n",
       " '__format__',\n",
       " '__ge__',\n",
       " '__getattr__',\n",
       " '__getattribute__',\n",
       " '__gt__',\n",
       " '__hash__',\n",
       " '__init__',\n",
       " '__init_subclass__',\n",
       " '__le__',\n",
       " '__lt__',\n",
       " '__module__',\n",
       " '__ne__',\n",
       " '__new__',\n",
       " '__reduce__',\n",
       " '__reduce_ex__',\n",
       " '__repr__',\n",
       " '__setattr__',\n",
       " '__sizeof__',\n",
       " '__str__',\n",
       " '__subclasshook__',\n",
       " '__weakref__',\n",
       " '_extract_submission_id',\n",
       " '_fetch',\n",
       " '_fetch_data',\n",
       " '_fetch_info',\n",
       " '_fetched',\n",
       " '_kind',\n",
       " '_reddit',\n",
       " '_replies',\n",
       " '_reset_attributes',\n",
       " '_safely_add_arguments',\n",
       " '_submission',\n",
       " '_url_parts',\n",
       " '_vote',\n",
       " 'all_awardings',\n",
       " 'approved_at_utc',\n",
       " 'approved_by',\n",
       " 'archived',\n",
       " 'associated_award',\n",
       " 'author',\n",
       " 'author_flair_background_color',\n",
       " 'author_flair_css_class',\n",
       " 'author_flair_richtext',\n",
       " 'author_flair_template_id',\n",
       " 'author_flair_text',\n",
       " 'author_flair_text_color',\n",
       " 'author_flair_type',\n",
       " 'author_fullname',\n",
       " 'author_patreon_flair',\n",
       " 'awarders',\n",
       " 'banned_at_utc',\n",
       " 'banned_by',\n",
       " 'block',\n",
       " 'body',\n",
       " 'body_html',\n",
       " 'can_gild',\n",
       " 'can_mod_post',\n",
       " 'clear_vote',\n",
       " 'collapse',\n",
       " 'collapsed',\n",
       " 'collapsed_reason',\n",
       " 'controversiality',\n",
       " 'created',\n",
       " 'created_utc',\n",
       " 'delete',\n",
       " 'disable_inbox_replies',\n",
       " 'distinguished',\n",
       " 'downs',\n",
       " 'downvote',\n",
       " 'edit',\n",
       " 'edited',\n",
       " 'enable_inbox_replies',\n",
       " 'fullname',\n",
       " 'gild',\n",
       " 'gilded',\n",
       " 'gildings',\n",
       " 'id',\n",
       " 'id_from_url',\n",
       " 'is_root',\n",
       " 'is_submitter',\n",
       " 'likes',\n",
       " 'link_author',\n",
       " 'link_id',\n",
       " 'link_permalink',\n",
       " 'link_title',\n",
       " 'link_url',\n",
       " 'locked',\n",
       " 'mark_read',\n",
       " 'mark_unread',\n",
       " 'mod',\n",
       " 'mod_note',\n",
       " 'mod_reason_by',\n",
       " 'mod_reason_title',\n",
       " 'mod_reports',\n",
       " 'name',\n",
       " 'no_follow',\n",
       " 'num_comments',\n",
       " 'num_reports',\n",
       " 'over_18',\n",
       " 'parent',\n",
       " 'parent_id',\n",
       " 'parse',\n",
       " 'permalink',\n",
       " 'quarantine',\n",
       " 'refresh',\n",
       " 'removal_reason',\n",
       " 'replies',\n",
       " 'reply',\n",
       " 'report',\n",
       " 'report_reasons',\n",
       " 'save',\n",
       " 'saved',\n",
       " 'score',\n",
       " 'score_hidden',\n",
       " 'send_replies',\n",
       " 'steward_reports',\n",
       " 'stickied',\n",
       " 'submission',\n",
       " 'subreddit',\n",
       " 'subreddit_id',\n",
       " 'subreddit_name_prefixed',\n",
       " 'subreddit_type',\n",
       " 'total_awards_received',\n",
       " 'uncollapse',\n",
       " 'unsave',\n",
       " 'ups',\n",
       " 'upvote',\n",
       " 'user_reports']"
      ]
     },
     "execution_count": 17,
     "metadata": {},
     "output_type": "execute_result"
    }
   ],
   "source": [
    "dir(a_comment)"
   ]
  },
  {
   "cell_type": "code",
   "execution_count": 18,
   "metadata": {},
   "outputs": [],
   "source": [
    "comment_info = dict(\n",
    "    all_awardings=a_comment.all_awardings,\n",
    "    body=a_comment.body,\n",
    "    created_utc=a_comment.created_utc,\n",
    "    author_name=a_comment.author_fullname,\n",
    "    downvotes=a_comment.downs,\n",
    "    upvotes=a_comment.ups,\n",
    "    edited=a_comment.edited,\n",
    "    fullname=a_comment.fullname,\n",
    "    \n",
    ")"
   ]
  },
  {
   "cell_type": "code",
   "execution_count": 38,
   "metadata": {},
   "outputs": [
    {
     "ename": "APIException",
     "evalue": "USER_REQUIRED: 'Please log in to do that.'",
     "output_type": "error",
     "traceback": [
      "\u001b[0;31m---------------------------------------------------------------------------\u001b[0m",
      "\u001b[0;31mAPIException\u001b[0m                              Traceback (most recent call last)",
      "\u001b[0;32m<ipython-input-38-7e0fcaed1985>\u001b[0m in \u001b[0;36m<module>\u001b[0;34m\u001b[0m\n\u001b[0;32m----> 1\u001b[0;31m \u001b[0ma_comment\u001b[0m\u001b[0;34m.\u001b[0m\u001b[0mblock\u001b[0m\u001b[0;34m(\u001b[0m\u001b[0;34m)\u001b[0m\u001b[0;34m\u001b[0m\u001b[0;34m\u001b[0m\u001b[0m\n\u001b[0m",
      "\u001b[0;32m~/anaconda3/lib/python3.7/site-packages/praw/models/reddit/mixins/inboxable.py\u001b[0m in \u001b[0;36mblock\u001b[0;34m(self)\u001b[0m\n\u001b[1;32m     25\u001b[0m \u001b[0;34m\u001b[0m\u001b[0m\n\u001b[1;32m     26\u001b[0m         \"\"\"\n\u001b[0;32m---> 27\u001b[0;31m         \u001b[0mself\u001b[0m\u001b[0;34m.\u001b[0m\u001b[0m_reddit\u001b[0m\u001b[0;34m.\u001b[0m\u001b[0mpost\u001b[0m\u001b[0;34m(\u001b[0m\u001b[0mAPI_PATH\u001b[0m\u001b[0;34m[\u001b[0m\u001b[0;34m\"block\"\u001b[0m\u001b[0;34m]\u001b[0m\u001b[0;34m,\u001b[0m \u001b[0mdata\u001b[0m\u001b[0;34m=\u001b[0m\u001b[0;34m{\u001b[0m\u001b[0;34m\"id\"\u001b[0m\u001b[0;34m:\u001b[0m \u001b[0mself\u001b[0m\u001b[0;34m.\u001b[0m\u001b[0mfullname\u001b[0m\u001b[0;34m}\u001b[0m\u001b[0;34m)\u001b[0m\u001b[0;34m\u001b[0m\u001b[0;34m\u001b[0m\u001b[0m\n\u001b[0m\u001b[1;32m     28\u001b[0m \u001b[0;34m\u001b[0m\u001b[0m\n\u001b[1;32m     29\u001b[0m     \u001b[0;32mdef\u001b[0m \u001b[0mcollapse\u001b[0m\u001b[0;34m(\u001b[0m\u001b[0mself\u001b[0m\u001b[0;34m)\u001b[0m\u001b[0;34m:\u001b[0m\u001b[0;34m\u001b[0m\u001b[0;34m\u001b[0m\u001b[0m\n",
      "\u001b[0;32m~/anaconda3/lib/python3.7/site-packages/praw/reddit.py\u001b[0m in \u001b[0;36mpost\u001b[0;34m(self, path, data, files, params)\u001b[0m\n\u001b[1;32m    527\u001b[0m             \u001b[0;34m\"POST\"\u001b[0m\u001b[0;34m,\u001b[0m \u001b[0mpath\u001b[0m\u001b[0;34m,\u001b[0m \u001b[0mdata\u001b[0m\u001b[0;34m=\u001b[0m\u001b[0mdata\u001b[0m \u001b[0;32mor\u001b[0m \u001b[0;34m{\u001b[0m\u001b[0;34m}\u001b[0m\u001b[0;34m,\u001b[0m \u001b[0mfiles\u001b[0m\u001b[0;34m=\u001b[0m\u001b[0mfiles\u001b[0m\u001b[0;34m,\u001b[0m \u001b[0mparams\u001b[0m\u001b[0;34m=\u001b[0m\u001b[0mparams\u001b[0m\u001b[0;34m\u001b[0m\u001b[0;34m\u001b[0m\u001b[0m\n\u001b[1;32m    528\u001b[0m         )\n\u001b[0;32m--> 529\u001b[0;31m         \u001b[0;32mreturn\u001b[0m \u001b[0mself\u001b[0m\u001b[0;34m.\u001b[0m\u001b[0m_objector\u001b[0m\u001b[0;34m.\u001b[0m\u001b[0mobjectify\u001b[0m\u001b[0;34m(\u001b[0m\u001b[0mdata\u001b[0m\u001b[0;34m)\u001b[0m\u001b[0;34m\u001b[0m\u001b[0;34m\u001b[0m\u001b[0m\n\u001b[0m\u001b[1;32m    530\u001b[0m \u001b[0;34m\u001b[0m\u001b[0m\n\u001b[1;32m    531\u001b[0m     \u001b[0;32mdef\u001b[0m \u001b[0mput\u001b[0m\u001b[0;34m(\u001b[0m\u001b[0mself\u001b[0m\u001b[0;34m,\u001b[0m \u001b[0mpath\u001b[0m\u001b[0;34m,\u001b[0m \u001b[0mdata\u001b[0m\u001b[0;34m=\u001b[0m\u001b[0;32mNone\u001b[0m\u001b[0;34m)\u001b[0m\u001b[0;34m:\u001b[0m\u001b[0;34m\u001b[0m\u001b[0;34m\u001b[0m\u001b[0m\n",
      "\u001b[0;32m~/anaconda3/lib/python3.7/site-packages/praw/objector.py\u001b[0m in \u001b[0;36mobjectify\u001b[0;34m(self, data)\u001b[0m\n\u001b[1;32m    156\u001b[0m             \u001b[0merrors\u001b[0m \u001b[0;34m=\u001b[0m \u001b[0mdata\u001b[0m\u001b[0;34m[\u001b[0m\u001b[0;34m\"json\"\u001b[0m\u001b[0;34m]\u001b[0m\u001b[0;34m[\u001b[0m\u001b[0;34m\"errors\"\u001b[0m\u001b[0;34m]\u001b[0m\u001b[0;34m\u001b[0m\u001b[0;34m\u001b[0m\u001b[0m\n\u001b[1;32m    157\u001b[0m             \u001b[0;32mif\u001b[0m \u001b[0mlen\u001b[0m\u001b[0;34m(\u001b[0m\u001b[0merrors\u001b[0m\u001b[0;34m)\u001b[0m \u001b[0;34m==\u001b[0m \u001b[0;36m1\u001b[0m\u001b[0;34m:\u001b[0m\u001b[0;34m\u001b[0m\u001b[0;34m\u001b[0m\u001b[0m\n\u001b[0;32m--> 158\u001b[0;31m                 \u001b[0;32mraise\u001b[0m \u001b[0mAPIException\u001b[0m\u001b[0;34m(\u001b[0m\u001b[0;34m*\u001b[0m\u001b[0merrors\u001b[0m\u001b[0;34m[\u001b[0m\u001b[0;36m0\u001b[0m\u001b[0;34m]\u001b[0m\u001b[0;34m)\u001b[0m\u001b[0;34m\u001b[0m\u001b[0;34m\u001b[0m\u001b[0m\n\u001b[0m\u001b[1;32m    159\u001b[0m             \u001b[0;32massert\u001b[0m \u001b[0;32mnot\u001b[0m \u001b[0merrors\u001b[0m\u001b[0;34m\u001b[0m\u001b[0;34m\u001b[0m\u001b[0m\n\u001b[1;32m    160\u001b[0m         \u001b[0;32melif\u001b[0m \u001b[0misinstance\u001b[0m\u001b[0;34m(\u001b[0m\u001b[0mdata\u001b[0m\u001b[0;34m,\u001b[0m \u001b[0mdict\u001b[0m\u001b[0;34m)\u001b[0m\u001b[0;34m:\u001b[0m\u001b[0;34m\u001b[0m\u001b[0;34m\u001b[0m\u001b[0m\n",
      "\u001b[0;31mAPIException\u001b[0m: USER_REQUIRED: 'Please log in to do that.'"
     ]
    }
   ],
   "source": [
    "a_comment.block()"
   ]
  },
  {
   "cell_type": "code",
   "execution_count": 19,
   "metadata": {},
   "outputs": [
    {
     "name": "stdout",
     "output_type": "stream",
     "text": [
      "Help on method gild in module praw.models.reddit.mixins.gildable:\n",
      "\n",
      "gild() method of praw.models.reddit.comment.Comment instance\n",
      "    Gild the author of the item.\n",
      "    \n",
      "    .. note:: Requires the authenticated user to own reddit gold creddits.\n",
      "              Calling this method will consume one reddit gold creddit.\n",
      "    \n",
      "    Example usage:\n",
      "    \n",
      "    .. code:: python\n",
      "    \n",
      "       comment = reddit.comment('dkk4qjd')\n",
      "       comment.gild()\n",
      "    \n",
      "       submission = reddit.submission('8dmv8z')\n",
      "       submission.gild()\n",
      "\n"
     ]
    }
   ],
   "source": [
    "help(a_comment.gild)"
   ]
  },
  {
   "cell_type": "code",
   "execution_count": 20,
   "metadata": {},
   "outputs": [
    {
     "name": "stdout",
     "output_type": "stream",
     "text": [
      "{'all_awardings': [], 'body': 'There are many modules you can import to use graphics from python. Here is a short list: https://www.reddit.com/r/learnpython/wiki/faq#wiki_what_gui_should_i_use.3F\\n\\nWhich one you choose will depend a lot on what you want to make.', 'created_utc': 1571685922.0, 'author_name': 't2_10rndb', 'downvotes': 0, 'upvotes': 1, 'edited': False, 'fullname': 't1_f4n5id5'}\n"
     ]
    }
   ],
   "source": [
    "print(comment_info)"
   ]
  },
  {
   "cell_type": "code",
   "execution_count": 21,
   "metadata": {},
   "outputs": [
    {
     "data": {
      "text/plain": [
       "100"
      ]
     },
     "execution_count": 21,
     "metadata": {},
     "output_type": "execute_result"
    }
   ],
   "source": [
    "lpython.comments().limit"
   ]
  },
  {
   "cell_type": "code",
   "execution_count": 22,
   "metadata": {},
   "outputs": [
    {
     "data": {
      "text/plain": [
       "'seiesos'"
      ]
     },
     "execution_count": 22,
     "metadata": {},
     "output_type": "execute_result"
    }
   ],
   "source": [
    "a_comment.link_author"
   ]
  },
  {
   "cell_type": "code",
   "execution_count": 23,
   "metadata": {},
   "outputs": [
    {
     "data": {
      "text/plain": [
       "Redditor(name='socal_nerdtastic')"
      ]
     },
     "execution_count": 23,
     "metadata": {},
     "output_type": "execute_result"
    }
   ],
   "source": [
    "a_comment.author"
   ]
  },
  {
   "cell_type": "code",
   "execution_count": 32,
   "metadata": {},
   "outputs": [
    {
     "data": {
      "text/plain": [
       "'f4n5id5'"
      ]
     },
     "execution_count": 32,
     "metadata": {},
     "output_type": "execute_result"
    }
   ],
   "source": [
    "a_comment.id"
   ]
  },
  {
   "cell_type": "code",
   "execution_count": null,
   "metadata": {},
   "outputs": [],
   "source": []
  }
 ],
 "metadata": {
  "kernelspec": {
   "display_name": "Python 3",
   "language": "python",
   "name": "python3"
  },
  "language_info": {
   "codemirror_mode": {
    "name": "ipython",
    "version": 3
   },
   "file_extension": ".py",
   "mimetype": "text/x-python",
   "name": "python",
   "nbconvert_exporter": "python",
   "pygments_lexer": "ipython3",
   "version": "3.7.3"
  }
 },
 "nbformat": 4,
 "nbformat_minor": 2
}
