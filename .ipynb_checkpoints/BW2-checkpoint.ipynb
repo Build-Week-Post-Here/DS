{
 "cells": [
  {
   "cell_type": "code",
   "execution_count": 1,
   "metadata": {},
   "outputs": [
    {
     "name": "stderr",
     "output_type": "stream",
     "text": [
      "C:\\Users\\Samue\\Anaconda3\\envs\\DS-U4-S1-NLP\\lib\\site-packages\\gensim\\utils.py:1197: UserWarning: detected Windows; aliasing chunkize to chunkize_serial\n",
      "  warnings.warn(\"detected Windows; aliasing chunkize to chunkize_serial\")\n"
     ]
    }
   ],
   "source": [
    "import pandas as pd\n",
    "import csv\n",
    "from sklearn.neighbors import NearestNeighbors\n",
    "from sklearn.feature_extraction.text import TfidfVectorizer, CountVectorizer\n",
    "from gensim.utils import simple_preprocess\n",
    "from gensim.parsing.preprocessing import STOPWORDS\n",
    "import joblib\n",
    "from src.util import *"
   ]
  },
  {
   "cell_type": "code",
   "execution_count": 2,
   "metadata": {},
   "outputs": [
    {
     "data": {
      "text/html": [
       "<div>\n",
       "<style scoped>\n",
       "    .dataframe tbody tr th:only-of-type {\n",
       "        vertical-align: middle;\n",
       "    }\n",
       "\n",
       "    .dataframe tbody tr th {\n",
       "        vertical-align: top;\n",
       "    }\n",
       "\n",
       "    .dataframe thead th {\n",
       "        text-align: right;\n",
       "    }\n",
       "</style>\n",
       "<table border=\"1\" class=\"dataframe\">\n",
       "  <thead>\n",
       "    <tr style=\"text-align: right;\">\n",
       "      <th></th>\n",
       "      <th>Unnamed: 0</th>\n",
       "      <th>title</th>\n",
       "      <th>score</th>\n",
       "      <th>text</th>\n",
       "      <th>nsfw</th>\n",
       "      <th>subreddit_name</th>\n",
       "    </tr>\n",
       "  </thead>\n",
       "  <tbody>\n",
       "    <tr>\n",
       "      <th>0</th>\n",
       "      <td>0</td>\n",
       "      <td>People who haven't pooped in 2019 yet, why are...</td>\n",
       "      <td>221863</td>\n",
       "      <td>NaN</td>\n",
       "      <td>False</td>\n",
       "      <td>AskReddit</td>\n",
       "    </tr>\n",
       "    <tr>\n",
       "      <th>1</th>\n",
       "      <td>1</td>\n",
       "      <td>Stan Lee has passed away at 95 years old</td>\n",
       "      <td>175334</td>\n",
       "      <td>As many of you know today is day that many of ...</td>\n",
       "      <td>False</td>\n",
       "      <td>AskReddit</td>\n",
       "    </tr>\n",
       "    <tr>\n",
       "      <th>2</th>\n",
       "      <td>2</td>\n",
       "      <td>Reddit, how would you feel about a law that ba...</td>\n",
       "      <td>160308</td>\n",
       "      <td>NaN</td>\n",
       "      <td>False</td>\n",
       "      <td>AskReddit</td>\n",
       "    </tr>\n",
       "    <tr>\n",
       "      <th>3</th>\n",
       "      <td>3</td>\n",
       "      <td>Without saying what the category is, what are ...</td>\n",
       "      <td>144658</td>\n",
       "      <td></td>\n",
       "      <td>False</td>\n",
       "      <td>AskReddit</td>\n",
       "    </tr>\n",
       "    <tr>\n",
       "      <th>4</th>\n",
       "      <td>4</td>\n",
       "      <td>Anthony Bourdain once said \"There's a guy in m...</td>\n",
       "      <td>141143</td>\n",
       "      <td>NaN</td>\n",
       "      <td>False</td>\n",
       "      <td>AskReddit</td>\n",
       "    </tr>\n",
       "  </tbody>\n",
       "</table>\n",
       "</div>"
      ],
      "text/plain": [
       "   Unnamed: 0                                              title   score  \\\n",
       "0           0  People who haven't pooped in 2019 yet, why are...  221863   \n",
       "1           1           Stan Lee has passed away at 95 years old  175334   \n",
       "2           2  Reddit, how would you feel about a law that ba...  160308   \n",
       "3           3  Without saying what the category is, what are ...  144658   \n",
       "4           4  Anthony Bourdain once said \"There's a guy in m...  141143   \n",
       "\n",
       "                                                text   nsfw subreddit_name  \n",
       "0                                                NaN  False      AskReddit  \n",
       "1  As many of you know today is day that many of ...  False      AskReddit  \n",
       "2                                                NaN  False      AskReddit  \n",
       "3                                                     False      AskReddit  \n",
       "4                                                NaN  False      AskReddit  "
      ]
     },
     "execution_count": 2,
     "metadata": {},
     "output_type": "execute_result"
    }
   ],
   "source": [
    "submission_table = pd.read_csv('top_submission_info (1).csv')\n",
    "submission_table.head()"
   ]
  },
  {
   "cell_type": "code",
   "execution_count": 3,
   "metadata": {},
   "outputs": [],
   "source": [
    "submission_table = submission_table.drop(columns='Unnamed: 0')"
   ]
  },
  {
   "cell_type": "code",
   "execution_count": 4,
   "metadata": {},
   "outputs": [
    {
     "data": {
      "text/html": [
       "<div>\n",
       "<style scoped>\n",
       "    .dataframe tbody tr th:only-of-type {\n",
       "        vertical-align: middle;\n",
       "    }\n",
       "\n",
       "    .dataframe tbody tr th {\n",
       "        vertical-align: top;\n",
       "    }\n",
       "\n",
       "    .dataframe thead th {\n",
       "        text-align: right;\n",
       "    }\n",
       "</style>\n",
       "<table border=\"1\" class=\"dataframe\">\n",
       "  <thead>\n",
       "    <tr style=\"text-align: right;\">\n",
       "      <th></th>\n",
       "      <th>title</th>\n",
       "      <th>score</th>\n",
       "      <th>text</th>\n",
       "      <th>nsfw</th>\n",
       "      <th>subreddit_name</th>\n",
       "    </tr>\n",
       "  </thead>\n",
       "  <tbody>\n",
       "    <tr>\n",
       "      <th>0</th>\n",
       "      <td>People who haven't pooped in 2019 yet, why are...</td>\n",
       "      <td>221863</td>\n",
       "      <td>NaN</td>\n",
       "      <td>False</td>\n",
       "      <td>AskReddit</td>\n",
       "    </tr>\n",
       "    <tr>\n",
       "      <th>1</th>\n",
       "      <td>Stan Lee has passed away at 95 years old</td>\n",
       "      <td>175334</td>\n",
       "      <td>As many of you know today is day that many of ...</td>\n",
       "      <td>False</td>\n",
       "      <td>AskReddit</td>\n",
       "    </tr>\n",
       "    <tr>\n",
       "      <th>2</th>\n",
       "      <td>Reddit, how would you feel about a law that ba...</td>\n",
       "      <td>160308</td>\n",
       "      <td>NaN</td>\n",
       "      <td>False</td>\n",
       "      <td>AskReddit</td>\n",
       "    </tr>\n",
       "    <tr>\n",
       "      <th>3</th>\n",
       "      <td>Without saying what the category is, what are ...</td>\n",
       "      <td>144658</td>\n",
       "      <td></td>\n",
       "      <td>False</td>\n",
       "      <td>AskReddit</td>\n",
       "    </tr>\n",
       "    <tr>\n",
       "      <th>4</th>\n",
       "      <td>Anthony Bourdain once said \"There's a guy in m...</td>\n",
       "      <td>141143</td>\n",
       "      <td>NaN</td>\n",
       "      <td>False</td>\n",
       "      <td>AskReddit</td>\n",
       "    </tr>\n",
       "  </tbody>\n",
       "</table>\n",
       "</div>"
      ],
      "text/plain": [
       "                                               title   score  \\\n",
       "0  People who haven't pooped in 2019 yet, why are...  221863   \n",
       "1           Stan Lee has passed away at 95 years old  175334   \n",
       "2  Reddit, how would you feel about a law that ba...  160308   \n",
       "3  Without saying what the category is, what are ...  144658   \n",
       "4  Anthony Bourdain once said \"There's a guy in m...  141143   \n",
       "\n",
       "                                                text   nsfw subreddit_name  \n",
       "0                                                NaN  False      AskReddit  \n",
       "1  As many of you know today is day that many of ...  False      AskReddit  \n",
       "2                                                NaN  False      AskReddit  \n",
       "3                                                     False      AskReddit  \n",
       "4                                                NaN  False      AskReddit  "
      ]
     },
     "execution_count": 4,
     "metadata": {},
     "output_type": "execute_result"
    }
   ],
   "source": [
    "submission_table.head()"
   ]
  },
  {
   "cell_type": "code",
   "execution_count": 5,
   "metadata": {},
   "outputs": [],
   "source": [
    "# def tokenize(doc):\n",
    "#     return [token for token in simple_preprocess(doc) if token not in STOPWORDS]"
   ]
  },
  {
   "cell_type": "code",
   "execution_count": 6,
   "metadata": {},
   "outputs": [],
   "source": [
    "tfidf = TfidfVectorizer(tokenizer=tokenize, ngram_range=(1, 2))\n",
    "sparse = tfidf.fit_transform(submission_table['title'])"
   ]
  },
  {
   "cell_type": "code",
   "execution_count": 7,
   "metadata": {},
   "outputs": [
    {
     "data": {
      "text/plain": [
       "['tfvect.joblib']"
      ]
     },
     "execution_count": 7,
     "metadata": {},
     "output_type": "execute_result"
    }
   ],
   "source": [
    "joblib.dump(tfidf, 'tfvect.joblib')"
   ]
  },
  {
   "cell_type": "code",
   "execution_count": 8,
   "metadata": {},
   "outputs": [
    {
     "data": {
      "text/html": [
       "<div>\n",
       "<style scoped>\n",
       "    .dataframe tbody tr th:only-of-type {\n",
       "        vertical-align: middle;\n",
       "    }\n",
       "\n",
       "    .dataframe tbody tr th {\n",
       "        vertical-align: top;\n",
       "    }\n",
       "\n",
       "    .dataframe thead th {\n",
       "        text-align: right;\n",
       "    }\n",
       "</style>\n",
       "<table border=\"1\" class=\"dataframe\">\n",
       "  <thead>\n",
       "    <tr style=\"text-align: right;\">\n",
       "      <th></th>\n",
       "      <th>aa</th>\n",
       "      <th>aa batteries</th>\n",
       "      <th>aaa</th>\n",
       "      <th>abandon</th>\n",
       "      <th>abandon twins</th>\n",
       "      <th>abandoned</th>\n",
       "      <th>abandoned walmart</th>\n",
       "      <th>abandonment</th>\n",
       "      <th>abandonment terry</th>\n",
       "      <th>abducted</th>\n",
       "      <th>...</th>\n",
       "      <th>ｃｈａｎｇｅｄ ｍｙ</th>\n",
       "      <th>ｆｏｎｔ</th>\n",
       "      <th>ｆｏｎｔ ｔｏ</th>\n",
       "      <th>ｍｙ</th>\n",
       "      <th>ｍｙ ｆｏｎｔ</th>\n",
       "      <th>ｔｈｉｓ</th>\n",
       "      <th>ｔｏ</th>\n",
       "      <th>ｔｏ ｔｈｉｓ</th>\n",
       "      <th>ｖｅ</th>\n",
       "      <th>ｖｅ ａｃｃｉｄｅｎｔａｌｌｙ</th>\n",
       "    </tr>\n",
       "  </thead>\n",
       "  <tbody>\n",
       "    <tr>\n",
       "      <th>0</th>\n",
       "      <td>0.0</td>\n",
       "      <td>0.0</td>\n",
       "      <td>0.0</td>\n",
       "      <td>0.0</td>\n",
       "      <td>0.0</td>\n",
       "      <td>0.0</td>\n",
       "      <td>0.0</td>\n",
       "      <td>0.0</td>\n",
       "      <td>0.0</td>\n",
       "      <td>0.0</td>\n",
       "      <td>...</td>\n",
       "      <td>0.0</td>\n",
       "      <td>0.0</td>\n",
       "      <td>0.0</td>\n",
       "      <td>0.0</td>\n",
       "      <td>0.0</td>\n",
       "      <td>0.0</td>\n",
       "      <td>0.0</td>\n",
       "      <td>0.0</td>\n",
       "      <td>0.0</td>\n",
       "      <td>0.0</td>\n",
       "    </tr>\n",
       "    <tr>\n",
       "      <th>1</th>\n",
       "      <td>0.0</td>\n",
       "      <td>0.0</td>\n",
       "      <td>0.0</td>\n",
       "      <td>0.0</td>\n",
       "      <td>0.0</td>\n",
       "      <td>0.0</td>\n",
       "      <td>0.0</td>\n",
       "      <td>0.0</td>\n",
       "      <td>0.0</td>\n",
       "      <td>0.0</td>\n",
       "      <td>...</td>\n",
       "      <td>0.0</td>\n",
       "      <td>0.0</td>\n",
       "      <td>0.0</td>\n",
       "      <td>0.0</td>\n",
       "      <td>0.0</td>\n",
       "      <td>0.0</td>\n",
       "      <td>0.0</td>\n",
       "      <td>0.0</td>\n",
       "      <td>0.0</td>\n",
       "      <td>0.0</td>\n",
       "    </tr>\n",
       "    <tr>\n",
       "      <th>2</th>\n",
       "      <td>0.0</td>\n",
       "      <td>0.0</td>\n",
       "      <td>0.0</td>\n",
       "      <td>0.0</td>\n",
       "      <td>0.0</td>\n",
       "      <td>0.0</td>\n",
       "      <td>0.0</td>\n",
       "      <td>0.0</td>\n",
       "      <td>0.0</td>\n",
       "      <td>0.0</td>\n",
       "      <td>...</td>\n",
       "      <td>0.0</td>\n",
       "      <td>0.0</td>\n",
       "      <td>0.0</td>\n",
       "      <td>0.0</td>\n",
       "      <td>0.0</td>\n",
       "      <td>0.0</td>\n",
       "      <td>0.0</td>\n",
       "      <td>0.0</td>\n",
       "      <td>0.0</td>\n",
       "      <td>0.0</td>\n",
       "    </tr>\n",
       "    <tr>\n",
       "      <th>3</th>\n",
       "      <td>0.0</td>\n",
       "      <td>0.0</td>\n",
       "      <td>0.0</td>\n",
       "      <td>0.0</td>\n",
       "      <td>0.0</td>\n",
       "      <td>0.0</td>\n",
       "      <td>0.0</td>\n",
       "      <td>0.0</td>\n",
       "      <td>0.0</td>\n",
       "      <td>0.0</td>\n",
       "      <td>...</td>\n",
       "      <td>0.0</td>\n",
       "      <td>0.0</td>\n",
       "      <td>0.0</td>\n",
       "      <td>0.0</td>\n",
       "      <td>0.0</td>\n",
       "      <td>0.0</td>\n",
       "      <td>0.0</td>\n",
       "      <td>0.0</td>\n",
       "      <td>0.0</td>\n",
       "      <td>0.0</td>\n",
       "    </tr>\n",
       "    <tr>\n",
       "      <th>4</th>\n",
       "      <td>0.0</td>\n",
       "      <td>0.0</td>\n",
       "      <td>0.0</td>\n",
       "      <td>0.0</td>\n",
       "      <td>0.0</td>\n",
       "      <td>0.0</td>\n",
       "      <td>0.0</td>\n",
       "      <td>0.0</td>\n",
       "      <td>0.0</td>\n",
       "      <td>0.0</td>\n",
       "      <td>...</td>\n",
       "      <td>0.0</td>\n",
       "      <td>0.0</td>\n",
       "      <td>0.0</td>\n",
       "      <td>0.0</td>\n",
       "      <td>0.0</td>\n",
       "      <td>0.0</td>\n",
       "      <td>0.0</td>\n",
       "      <td>0.0</td>\n",
       "      <td>0.0</td>\n",
       "      <td>0.0</td>\n",
       "    </tr>\n",
       "  </tbody>\n",
       "</table>\n",
       "<p>5 rows × 20316 columns</p>\n",
       "</div>"
      ],
      "text/plain": [
       "    aa  aa batteries  aaa  abandon  abandon twins  abandoned  \\\n",
       "0  0.0           0.0  0.0      0.0            0.0        0.0   \n",
       "1  0.0           0.0  0.0      0.0            0.0        0.0   \n",
       "2  0.0           0.0  0.0      0.0            0.0        0.0   \n",
       "3  0.0           0.0  0.0      0.0            0.0        0.0   \n",
       "4  0.0           0.0  0.0      0.0            0.0        0.0   \n",
       "\n",
       "   abandoned walmart  abandonment  abandonment terry  abducted  ...  \\\n",
       "0                0.0          0.0                0.0       0.0  ...   \n",
       "1                0.0          0.0                0.0       0.0  ...   \n",
       "2                0.0          0.0                0.0       0.0  ...   \n",
       "3                0.0          0.0                0.0       0.0  ...   \n",
       "4                0.0          0.0                0.0       0.0  ...   \n",
       "\n",
       "   ｃｈａｎｇｅｄ ｍｙ  ｆｏｎｔ  ｆｏｎｔ ｔｏ   ｍｙ  ｍｙ ｆｏｎｔ  ｔｈｉｓ   ｔｏ  ｔｏ ｔｈｉｓ   ｖｅ  \\\n",
       "0         0.0   0.0      0.0  0.0      0.0   0.0  0.0      0.0  0.0   \n",
       "1         0.0   0.0      0.0  0.0      0.0   0.0  0.0      0.0  0.0   \n",
       "2         0.0   0.0      0.0  0.0      0.0   0.0  0.0      0.0  0.0   \n",
       "3         0.0   0.0      0.0  0.0      0.0   0.0  0.0      0.0  0.0   \n",
       "4         0.0   0.0      0.0  0.0      0.0   0.0  0.0      0.0  0.0   \n",
       "\n",
       "   ｖｅ ａｃｃｉｄｅｎｔａｌｌｙ  \n",
       "0              0.0  \n",
       "1              0.0  \n",
       "2              0.0  \n",
       "3              0.0  \n",
       "4              0.0  \n",
       "\n",
       "[5 rows x 20316 columns]"
      ]
     },
     "execution_count": 8,
     "metadata": {},
     "output_type": "execute_result"
    }
   ],
   "source": [
    "dtm = pd.DataFrame(sparse.todense(), columns=tfidf.get_feature_names())\n",
    "dtm.head()"
   ]
  },
  {
   "cell_type": "code",
   "execution_count": 9,
   "metadata": {},
   "outputs": [
    {
     "data": {
      "text/plain": [
       "NearestNeighbors(algorithm='brute', leaf_size=30, metric='minkowski',\n",
       "         metric_params=None, n_jobs=None, n_neighbors=5, p=2, radius=1.0)"
      ]
     },
     "execution_count": 9,
     "metadata": {},
     "output_type": "execute_result"
    }
   ],
   "source": [
    "nn = NearestNeighbors(n_neighbors=5, algorithm='brute')\n",
    "nn.fit(dtm)"
   ]
  },
  {
   "cell_type": "code",
   "execution_count": 10,
   "metadata": {},
   "outputs": [
    {
     "data": {
      "text/plain": [
       "['nn.joblib']"
      ]
     },
     "execution_count": 10,
     "metadata": {},
     "output_type": "execute_result"
    }
   ],
   "source": [
    "joblib.dump(nn, 'nn.joblib')"
   ]
  },
  {
   "cell_type": "code",
   "execution_count": 11,
   "metadata": {},
   "outputs": [],
   "source": [
    "query = [\"\"\"This cat's peculiar jumping style.\"\"\"]"
   ]
  },
  {
   "cell_type": "code",
   "execution_count": 12,
   "metadata": {},
   "outputs": [
    {
     "data": {
      "text/plain": [
       "(array([[0., 1., 1., 1., 1.]]),\n",
       " array([[1675,  567, 1344, 1180,  562]], dtype=int64))"
      ]
     },
     "execution_count": 12,
     "metadata": {},
     "output_type": "execute_result"
    }
   ],
   "source": [
    "looking = tfidf.transform(query)\n",
    "nn.kneighbors(looking.todense())"
   ]
  },
  {
   "cell_type": "code",
   "execution_count": 13,
   "metadata": {},
   "outputs": [
    {
     "name": "stdout",
     "output_type": "stream",
     "text": [
      "1675    oddlysatisfying\n",
      "567          Unexpected\n",
      "1344       HistoryMemes\n",
      "1180       comedyheaven\n",
      "562          Unexpected\n",
      "Name: subreddit_name, dtype: object\n"
     ]
    }
   ],
   "source": [
    "for i in nn.kneighbors(looking.todense())[1]:\n",
    "    print(submission_table['subreddit_name'][i])"
   ]
  }
 ],
 "metadata": {
  "kernelspec": {
   "display_name": "DS-U4-S1-NLP (Python3)",
   "language": "python",
   "name": "ds-u4-s1-nlp"
  },
  "language_info": {
   "codemirror_mode": {
    "name": "ipython",
    "version": 3
   },
   "file_extension": ".py",
   "mimetype": "text/x-python",
   "name": "python",
   "nbconvert_exporter": "python",
   "pygments_lexer": "ipython3",
   "version": "3.7.3"
  }
 },
 "nbformat": 4,
 "nbformat_minor": 4
}
