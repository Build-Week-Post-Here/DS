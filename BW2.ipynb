{
 "cells": [
  {
   "cell_type": "code",
   "execution_count": 1,
   "metadata": {},
   "outputs": [],
   "source": [
    "import pandas as pd\n",
    "import csv"
   ]
  },
  {
   "cell_type": "code",
   "execution_count": 2,
   "metadata": {},
   "outputs": [],
   "source": [
    "reddit_data = pd.read_csv('top_subreddit_info.csv')"
   ]
  },
  {
   "cell_type": "code",
   "execution_count": 3,
   "metadata": {},
   "outputs": [
    {
     "data": {
      "text/html": [
       "<div>\n",
       "<style scoped>\n",
       "    .dataframe tbody tr th:only-of-type {\n",
       "        vertical-align: middle;\n",
       "    }\n",
       "\n",
       "    .dataframe tbody tr th {\n",
       "        vertical-align: top;\n",
       "    }\n",
       "\n",
       "    .dataframe thead th {\n",
       "        text-align: right;\n",
       "    }\n",
       "</style>\n",
       "<table border=\"1\" class=\"dataframe\">\n",
       "  <thead>\n",
       "    <tr style=\"text-align: right;\">\n",
       "      <th></th>\n",
       "      <th>Unnamed: 0</th>\n",
       "      <th>subreddit_description</th>\n",
       "      <th>subreddit_id</th>\n",
       "      <th>subreddit_name</th>\n",
       "      <th>subreddit_nsfw</th>\n",
       "      <th>subreddit_subscribers</th>\n",
       "    </tr>\n",
       "  </thead>\n",
       "  <tbody>\n",
       "    <tr>\n",
       "      <th>0</th>\n",
       "      <td>0</td>\n",
       "      <td>###### [ [ SERIOUS ] ](http://www.reddit.com/r...</td>\n",
       "      <td>2qh1i</td>\n",
       "      <td>AskReddit</td>\n",
       "      <td>False</td>\n",
       "      <td>24877036</td>\n",
       "    </tr>\n",
       "    <tr>\n",
       "      <th>1</th>\n",
       "      <td>1</td>\n",
       "      <td>&gt;* **[/r/inthenews](/r/inthenews?hl)**\\r\\n\\r\\n...</td>\n",
       "      <td>2qh3l</td>\n",
       "      <td>news</td>\n",
       "      <td>False</td>\n",
       "      <td>19153359</td>\n",
       "    </tr>\n",
       "    <tr>\n",
       "      <th>2</th>\n",
       "      <td>2</td>\n",
       "      <td>&gt;&gt;&gt; - **Other Subs:**\\r\\n\\r\\n&gt;&gt;&gt; - [Related](h...</td>\n",
       "      <td>2qh13</td>\n",
       "      <td>worldnews</td>\n",
       "      <td>False</td>\n",
       "      <td>22340987</td>\n",
       "    </tr>\n",
       "    <tr>\n",
       "      <th>3</th>\n",
       "      <td>3</td>\n",
       "      <td>## **Welcome to /r/Politics! Please read [the ...</td>\n",
       "      <td>2cneq</td>\n",
       "      <td>politics</td>\n",
       "      <td>False</td>\n",
       "      <td>5488713</td>\n",
       "    </tr>\n",
       "    <tr>\n",
       "      <th>4</th>\n",
       "      <td>4</td>\n",
       "      <td>**Welcome to r/Funny:**\\r\\n\\r\\nYou may only po...</td>\n",
       "      <td>2qh33</td>\n",
       "      <td>funny</td>\n",
       "      <td>False</td>\n",
       "      <td>26820807</td>\n",
       "    </tr>\n",
       "  </tbody>\n",
       "</table>\n",
       "</div>"
      ],
      "text/plain": [
       "   Unnamed: 0                              subreddit_description subreddit_id  \\\n",
       "0           0  ###### [ [ SERIOUS ] ](http://www.reddit.com/r...        2qh1i   \n",
       "1           1  >* **[/r/inthenews](/r/inthenews?hl)**\\r\\n\\r\\n...        2qh3l   \n",
       "2           2  >>> - **Other Subs:**\\r\\n\\r\\n>>> - [Related](h...        2qh13   \n",
       "3           3  ## **Welcome to /r/Politics! Please read [the ...        2cneq   \n",
       "4           4  **Welcome to r/Funny:**\\r\\n\\r\\nYou may only po...        2qh33   \n",
       "\n",
       "  subreddit_name  subreddit_nsfw  subreddit_subscribers  \n",
       "0      AskReddit           False               24877036  \n",
       "1           news           False               19153359  \n",
       "2      worldnews           False               22340987  \n",
       "3       politics           False                5488713  \n",
       "4          funny           False               26820807  "
      ]
     },
     "execution_count": 3,
     "metadata": {},
     "output_type": "execute_result"
    }
   ],
   "source": [
    "reddit_data.head()"
   ]
  },
  {
   "cell_type": "code",
   "execution_count": 4,
   "metadata": {},
   "outputs": [
    {
     "data": {
      "text/html": [
       "<div>\n",
       "<style scoped>\n",
       "    .dataframe tbody tr th:only-of-type {\n",
       "        vertical-align: middle;\n",
       "    }\n",
       "\n",
       "    .dataframe tbody tr th {\n",
       "        vertical-align: top;\n",
       "    }\n",
       "\n",
       "    .dataframe thead th {\n",
       "        text-align: right;\n",
       "    }\n",
       "</style>\n",
       "<table border=\"1\" class=\"dataframe\">\n",
       "  <thead>\n",
       "    <tr style=\"text-align: right;\">\n",
       "      <th></th>\n",
       "      <th>subreddit_description</th>\n",
       "      <th>subreddit_id</th>\n",
       "      <th>subreddit_name</th>\n",
       "      <th>subreddit_nsfw</th>\n",
       "      <th>subreddit_subscribers</th>\n",
       "    </tr>\n",
       "  </thead>\n",
       "  <tbody>\n",
       "    <tr>\n",
       "      <th>0</th>\n",
       "      <td>###### [ [ SERIOUS ] ](http://www.reddit.com/r...</td>\n",
       "      <td>2qh1i</td>\n",
       "      <td>AskReddit</td>\n",
       "      <td>False</td>\n",
       "      <td>24877036</td>\n",
       "    </tr>\n",
       "    <tr>\n",
       "      <th>1</th>\n",
       "      <td>&gt;* **[/r/inthenews](/r/inthenews?hl)**\\r\\n\\r\\n...</td>\n",
       "      <td>2qh3l</td>\n",
       "      <td>news</td>\n",
       "      <td>False</td>\n",
       "      <td>19153359</td>\n",
       "    </tr>\n",
       "    <tr>\n",
       "      <th>2</th>\n",
       "      <td>&gt;&gt;&gt; - **Other Subs:**\\r\\n\\r\\n&gt;&gt;&gt; - [Related](h...</td>\n",
       "      <td>2qh13</td>\n",
       "      <td>worldnews</td>\n",
       "      <td>False</td>\n",
       "      <td>22340987</td>\n",
       "    </tr>\n",
       "    <tr>\n",
       "      <th>3</th>\n",
       "      <td>## **Welcome to /r/Politics! Please read [the ...</td>\n",
       "      <td>2cneq</td>\n",
       "      <td>politics</td>\n",
       "      <td>False</td>\n",
       "      <td>5488713</td>\n",
       "    </tr>\n",
       "    <tr>\n",
       "      <th>4</th>\n",
       "      <td>**Welcome to r/Funny:**\\r\\n\\r\\nYou may only po...</td>\n",
       "      <td>2qh33</td>\n",
       "      <td>funny</td>\n",
       "      <td>False</td>\n",
       "      <td>26820807</td>\n",
       "    </tr>\n",
       "  </tbody>\n",
       "</table>\n",
       "</div>"
      ],
      "text/plain": [
       "                               subreddit_description subreddit_id  \\\n",
       "0  ###### [ [ SERIOUS ] ](http://www.reddit.com/r...        2qh1i   \n",
       "1  >* **[/r/inthenews](/r/inthenews?hl)**\\r\\n\\r\\n...        2qh3l   \n",
       "2  >>> - **Other Subs:**\\r\\n\\r\\n>>> - [Related](h...        2qh13   \n",
       "3  ## **Welcome to /r/Politics! Please read [the ...        2cneq   \n",
       "4  **Welcome to r/Funny:**\\r\\n\\r\\nYou may only po...        2qh33   \n",
       "\n",
       "  subreddit_name  subreddit_nsfw  subreddit_subscribers  \n",
       "0      AskReddit           False               24877036  \n",
       "1           news           False               19153359  \n",
       "2      worldnews           False               22340987  \n",
       "3       politics           False                5488713  \n",
       "4          funny           False               26820807  "
      ]
     },
     "execution_count": 4,
     "metadata": {},
     "output_type": "execute_result"
    }
   ],
   "source": [
    "reddit_data = reddit_data.drop(columns='Unnamed: 0')\n",
    "reddit_data.head()"
   ]
  },
  {
   "cell_type": "code",
   "execution_count": 5,
   "metadata": {},
   "outputs": [
    {
     "data": {
      "text/plain": [
       "100"
      ]
     },
     "execution_count": 5,
     "metadata": {},
     "output_type": "execute_result"
    }
   ],
   "source": [
    "len(reddit_data['subreddit_description'])"
   ]
  },
  {
   "cell_type": "code",
   "execution_count": 6,
   "metadata": {},
   "outputs": [],
   "source": [
    "# print(reddit_data['subreddit_description'][0])"
   ]
  },
  {
   "cell_type": "code",
   "execution_count": 7,
   "metadata": {},
   "outputs": [
    {
     "data": {
      "text/plain": [
       "subreddit_description    1\n",
       "subreddit_id             0\n",
       "subreddit_name           0\n",
       "subreddit_nsfw           0\n",
       "subreddit_subscribers    0\n",
       "dtype: int64"
      ]
     },
     "execution_count": 7,
     "metadata": {},
     "output_type": "execute_result"
    }
   ],
   "source": [
    "reddit_data.isna().sum()"
   ]
  },
  {
   "cell_type": "code",
   "execution_count": 8,
   "metadata": {},
   "outputs": [
    {
     "name": "stderr",
     "output_type": "stream",
     "text": [
      "C:\\Users\\Samue\\Anaconda3\\envs\\DS-U4-S1-NLP\\lib\\site-packages\\gensim\\utils.py:1197: UserWarning: detected Windows; aliasing chunkize to chunkize_serial\n",
      "  warnings.warn(\"detected Windows; aliasing chunkize to chunkize_serial\")\n"
     ]
    }
   ],
   "source": [
    "from gensim.utils import simple_preprocess\n",
    "from gensim.parsing.preprocessing import STOPWORDS"
   ]
  },
  {
   "cell_type": "code",
   "execution_count": 9,
   "metadata": {},
   "outputs": [],
   "source": [
    "reddit_data['subreddit_description'] = reddit_data['subreddit_description'].fillna('').astype(str) # creates a list of words which can't be tokenized"
   ]
  },
  {
   "cell_type": "code",
   "execution_count": 10,
   "metadata": {},
   "outputs": [],
   "source": [
    "def tokenize(doc):\n",
    "    return [token for token in simple_preprocess(doc) if token not in STOPWORDS]"
   ]
  },
  {
   "cell_type": "code",
   "execution_count": 11,
   "metadata": {},
   "outputs": [],
   "source": [
    "reddit_data['tokens'] = reddit_data['subreddit_description'].apply(tokenize)"
   ]
  },
  {
   "cell_type": "code",
   "execution_count": 12,
   "metadata": {},
   "outputs": [
    {
     "data": {
      "text/plain": [
       "subreddit_description    0\n",
       "subreddit_id             0\n",
       "subreddit_name           0\n",
       "subreddit_nsfw           0\n",
       "subreddit_subscribers    0\n",
       "tokens                   0\n",
       "dtype: int64"
      ]
     },
     "execution_count": 12,
     "metadata": {},
     "output_type": "execute_result"
    }
   ],
   "source": [
    "reddit_data.isna().sum()"
   ]
  },
  {
   "cell_type": "code",
   "execution_count": 13,
   "metadata": {},
   "outputs": [
    {
     "data": {
      "text/plain": [
       "0    [http, www, reddit, com, askreddit, submit, se...\n",
       "1    [inthenews, inthenews, hl, worldnews, worldnew...\n",
       "2    [subs, related, http, goo, gl, ztbbza, news, w...\n",
       "3    [welcome, politics, read, wiki, politics, inde...\n",
       "4    [welcome, funny, post, funny, new, reddit, cli...\n",
       "5    [nsfw, sex, bodily, discharge, filter, yes, ht...\n",
       "6    [welcome, amitheasshole, http, www, reddit, co...\n",
       "7    [http, www, reddit, com, aww, newlink, new, re...\n",
       "8    [join, discord, server, https, discord, gg, tc...\n",
       "9    [res_sr_config, need, help, relationship, roma...\n",
       "Name: tokens, dtype: object"
      ]
     },
     "execution_count": 13,
     "metadata": {},
     "output_type": "execute_result"
    }
   ],
   "source": [
    "reddit_data['tokens'][0:10]"
   ]
  },
  {
   "cell_type": "code",
   "execution_count": 14,
   "metadata": {},
   "outputs": [],
   "source": [
    "from sklearn.neighbors import NearestNeighbors\n",
    "from sklearn.feature_extraction.text import TfidfVectorizer, CountVectorizer"
   ]
  },
  {
   "cell_type": "code",
   "execution_count": 15,
   "metadata": {},
   "outputs": [
    {
     "data": {
      "text/html": [
       "<div>\n",
       "<style scoped>\n",
       "    .dataframe tbody tr th:only-of-type {\n",
       "        vertical-align: middle;\n",
       "    }\n",
       "\n",
       "    .dataframe tbody tr th {\n",
       "        vertical-align: top;\n",
       "    }\n",
       "\n",
       "    .dataframe thead th {\n",
       "        text-align: right;\n",
       "    }\n",
       "</style>\n",
       "<table border=\"1\" class=\"dataframe\">\n",
       "  <thead>\n",
       "    <tr style=\"text-align: right;\">\n",
       "      <th></th>\n",
       "      <th>acceptable</th>\n",
       "      <th>accounts</th>\n",
       "      <th>add</th>\n",
       "      <th>advice</th>\n",
       "      <th>allow</th>\n",
       "      <th>allowed</th>\n",
       "      <th>ama</th>\n",
       "      <th>animals</th>\n",
       "      <th>article</th>\n",
       "      <th>articles</th>\n",
       "      <th>...</th>\n",
       "      <th>wiki https</th>\n",
       "      <th>wiki index</th>\n",
       "      <th>wiki reddiquette</th>\n",
       "      <th>wiki rules</th>\n",
       "      <th>witch</th>\n",
       "      <th>word</th>\n",
       "      <th>work</th>\n",
       "      <th>www</th>\n",
       "      <th>www reddit</th>\n",
       "      <th>youtube</th>\n",
       "    </tr>\n",
       "  </thead>\n",
       "  <tbody>\n",
       "    <tr>\n",
       "      <th>0</th>\n",
       "      <td>0.0</td>\n",
       "      <td>0.000000</td>\n",
       "      <td>0.00000</td>\n",
       "      <td>0.072558</td>\n",
       "      <td>0.00000</td>\n",
       "      <td>0.044308</td>\n",
       "      <td>0.000000</td>\n",
       "      <td>0.0</td>\n",
       "      <td>0.000000</td>\n",
       "      <td>0.000000</td>\n",
       "      <td>...</td>\n",
       "      <td>0.000000</td>\n",
       "      <td>0.330153</td>\n",
       "      <td>0.036279</td>\n",
       "      <td>0.000000</td>\n",
       "      <td>0.000000</td>\n",
       "      <td>0.000000</td>\n",
       "      <td>0.00000</td>\n",
       "      <td>0.318133</td>\n",
       "      <td>0.324561</td>\n",
       "      <td>0.000000</td>\n",
       "    </tr>\n",
       "    <tr>\n",
       "      <th>1</th>\n",
       "      <td>0.0</td>\n",
       "      <td>0.000000</td>\n",
       "      <td>0.00000</td>\n",
       "      <td>0.000000</td>\n",
       "      <td>0.00000</td>\n",
       "      <td>0.000000</td>\n",
       "      <td>0.000000</td>\n",
       "      <td>0.0</td>\n",
       "      <td>0.188042</td>\n",
       "      <td>0.125339</td>\n",
       "      <td>...</td>\n",
       "      <td>0.000000</td>\n",
       "      <td>0.000000</td>\n",
       "      <td>0.000000</td>\n",
       "      <td>0.074480</td>\n",
       "      <td>0.000000</td>\n",
       "      <td>0.000000</td>\n",
       "      <td>0.00000</td>\n",
       "      <td>0.205051</td>\n",
       "      <td>0.209194</td>\n",
       "      <td>0.000000</td>\n",
       "    </tr>\n",
       "    <tr>\n",
       "      <th>2</th>\n",
       "      <td>0.0</td>\n",
       "      <td>0.000000</td>\n",
       "      <td>0.00000</td>\n",
       "      <td>0.000000</td>\n",
       "      <td>0.00000</td>\n",
       "      <td>0.000000</td>\n",
       "      <td>0.084714</td>\n",
       "      <td>0.0</td>\n",
       "      <td>0.000000</td>\n",
       "      <td>0.079187</td>\n",
       "      <td>...</td>\n",
       "      <td>0.000000</td>\n",
       "      <td>0.000000</td>\n",
       "      <td>0.000000</td>\n",
       "      <td>0.070583</td>\n",
       "      <td>0.000000</td>\n",
       "      <td>0.000000</td>\n",
       "      <td>0.00000</td>\n",
       "      <td>0.259098</td>\n",
       "      <td>0.148687</td>\n",
       "      <td>0.000000</td>\n",
       "    </tr>\n",
       "    <tr>\n",
       "      <th>3</th>\n",
       "      <td>0.0</td>\n",
       "      <td>0.000000</td>\n",
       "      <td>0.00000</td>\n",
       "      <td>0.000000</td>\n",
       "      <td>0.00000</td>\n",
       "      <td>0.000000</td>\n",
       "      <td>0.198050</td>\n",
       "      <td>0.0</td>\n",
       "      <td>0.138873</td>\n",
       "      <td>0.154275</td>\n",
       "      <td>...</td>\n",
       "      <td>0.000000</td>\n",
       "      <td>0.330027</td>\n",
       "      <td>0.030221</td>\n",
       "      <td>0.000000</td>\n",
       "      <td>0.060442</td>\n",
       "      <td>0.069436</td>\n",
       "      <td>0.00000</td>\n",
       "      <td>0.088337</td>\n",
       "      <td>0.064372</td>\n",
       "      <td>0.000000</td>\n",
       "    </tr>\n",
       "    <tr>\n",
       "      <th>4</th>\n",
       "      <td>0.0</td>\n",
       "      <td>0.040954</td>\n",
       "      <td>0.04653</td>\n",
       "      <td>0.000000</td>\n",
       "      <td>0.04653</td>\n",
       "      <td>0.208115</td>\n",
       "      <td>0.000000</td>\n",
       "      <td>0.0</td>\n",
       "      <td>0.000000</td>\n",
       "      <td>0.000000</td>\n",
       "      <td>...</td>\n",
       "      <td>0.050301</td>\n",
       "      <td>0.000000</td>\n",
       "      <td>0.000000</td>\n",
       "      <td>0.077537</td>\n",
       "      <td>0.000000</td>\n",
       "      <td>0.000000</td>\n",
       "      <td>0.04653</td>\n",
       "      <td>0.177890</td>\n",
       "      <td>0.145188</td>\n",
       "      <td>0.038103</td>\n",
       "    </tr>\n",
       "  </tbody>\n",
       "</table>\n",
       "<p>5 rows × 339 columns</p>\n",
       "</div>"
      ],
      "text/plain": [
       "   acceptable  accounts      add    advice    allow   allowed       ama  \\\n",
       "0         0.0  0.000000  0.00000  0.072558  0.00000  0.044308  0.000000   \n",
       "1         0.0  0.000000  0.00000  0.000000  0.00000  0.000000  0.000000   \n",
       "2         0.0  0.000000  0.00000  0.000000  0.00000  0.000000  0.084714   \n",
       "3         0.0  0.000000  0.00000  0.000000  0.00000  0.000000  0.198050   \n",
       "4         0.0  0.040954  0.04653  0.000000  0.04653  0.208115  0.000000   \n",
       "\n",
       "   animals   article  articles  ...  wiki https  wiki index  wiki reddiquette  \\\n",
       "0      0.0  0.000000  0.000000  ...    0.000000    0.330153          0.036279   \n",
       "1      0.0  0.188042  0.125339  ...    0.000000    0.000000          0.000000   \n",
       "2      0.0  0.000000  0.079187  ...    0.000000    0.000000          0.000000   \n",
       "3      0.0  0.138873  0.154275  ...    0.000000    0.330027          0.030221   \n",
       "4      0.0  0.000000  0.000000  ...    0.050301    0.000000          0.000000   \n",
       "\n",
       "   wiki rules     witch      word     work       www  www reddit   youtube  \n",
       "0    0.000000  0.000000  0.000000  0.00000  0.318133    0.324561  0.000000  \n",
       "1    0.074480  0.000000  0.000000  0.00000  0.205051    0.209194  0.000000  \n",
       "2    0.070583  0.000000  0.000000  0.00000  0.259098    0.148687  0.000000  \n",
       "3    0.000000  0.060442  0.069436  0.00000  0.088337    0.064372  0.000000  \n",
       "4    0.077537  0.000000  0.000000  0.04653  0.177890    0.145188  0.038103  \n",
       "\n",
       "[5 rows x 339 columns]"
      ]
     },
     "execution_count": 15,
     "metadata": {},
     "output_type": "execute_result"
    }
   ],
   "source": [
    "tfidf = TfidfVectorizer(tokenizer=tokenize, min_df=0.1, max_df=0.9, ngram_range=(1, 2))\n",
    "sparse = tfidf.fit_transform(reddit_data['subreddit_description'])\n",
    "dtm = pd.DataFrame(sparse.todense(), columns=tfidf.get_feature_names())\n",
    "dtm.head()"
   ]
  },
  {
   "cell_type": "code",
   "execution_count": 16,
   "metadata": {},
   "outputs": [
    {
     "data": {
      "text/plain": [
       "NearestNeighbors(algorithm='brute', leaf_size=30, metric='minkowski',\n",
       "         metric_params=None, n_jobs=None, n_neighbors=10, p=2, radius=1.0)"
      ]
     },
     "execution_count": 16,
     "metadata": {},
     "output_type": "execute_result"
    }
   ],
   "source": [
    "nn = NearestNeighbors(n_neighbors=10, algorithm='brute')\n",
    "nn.fit(dtm)"
   ]
  },
  {
   "cell_type": "code",
   "execution_count": 17,
   "metadata": {},
   "outputs": [],
   "source": [
    "query = [\"\"\"PC's are the superior console.\"\"\"]"
   ]
  },
  {
   "cell_type": "code",
   "execution_count": 18,
   "metadata": {},
   "outputs": [
    {
     "data": {
      "text/plain": [
       "(array([[0., 1., 1., 1., 1., 1., 1., 1., 1., 1.]]),\n",
       " array([[54,  8, 94, 17, 56, 20,  2, 39, 16, 59]], dtype=int64))"
      ]
     },
     "execution_count": 18,
     "metadata": {},
     "output_type": "execute_result"
    }
   ],
   "source": [
    "looking = tfidf.transform(query)\n",
    "nn.kneighbors(looking.todense())"
   ]
  },
  {
   "cell_type": "code",
   "execution_count": 19,
   "metadata": {},
   "outputs": [
    {
     "data": {
      "text/plain": [
       "'pcmasterrace'"
      ]
     },
     "execution_count": 19,
     "metadata": {},
     "output_type": "execute_result"
    }
   ],
   "source": [
    "reddit_data['subreddit_name'][59]"
   ]
  },
  {
   "cell_type": "code",
   "execution_count": null,
   "metadata": {},
   "outputs": [],
   "source": []
  }
 ],
 "metadata": {
  "kernelspec": {
   "display_name": "DS-U4-S1-NLP (Python3)",
   "language": "python",
   "name": "ds-u4-s1-nlp"
  },
  "language_info": {
   "codemirror_mode": {
    "name": "ipython",
    "version": 3
   },
   "file_extension": ".py",
   "mimetype": "text/x-python",
   "name": "python",
   "nbconvert_exporter": "python",
   "pygments_lexer": "ipython3",
   "version": "3.7.3"
  }
 },
 "nbformat": 4,
 "nbformat_minor": 4
}
